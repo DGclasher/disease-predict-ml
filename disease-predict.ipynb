{
 "cells": [
  {
   "cell_type": "code",
   "execution_count": 1,
   "id": "c147c909",
   "metadata": {
    "execution": {
     "iopub.execute_input": "2023-10-01T07:41:38.050951Z",
     "iopub.status.busy": "2023-10-01T07:41:38.049954Z",
     "iopub.status.idle": "2023-10-01T07:41:38.433519Z",
     "shell.execute_reply": "2023-10-01T07:41:38.432319Z"
    },
    "papermill": {
     "duration": 0.402506,
     "end_time": "2023-10-01T07:41:38.436034",
     "exception": false,
     "start_time": "2023-10-01T07:41:38.033528",
     "status": "completed"
    },
    "tags": []
   },
   "outputs": [],
   "source": [
    "import time\n",
    "import numpy as np\n",
    "import pandas as pd"
   ]
  },
  {
   "cell_type": "code",
   "execution_count": 2,
   "id": "97332dee",
   "metadata": {
    "execution": {
     "iopub.execute_input": "2023-10-01T07:41:38.457958Z",
     "iopub.status.busy": "2023-10-01T07:41:38.457163Z",
     "iopub.status.idle": "2023-10-01T07:41:38.505395Z",
     "shell.execute_reply": "2023-10-01T07:41:38.504332Z"
    },
    "papermill": {
     "duration": 0.061816,
     "end_time": "2023-10-01T07:41:38.507909",
     "exception": false,
     "start_time": "2023-10-01T07:41:38.446093",
     "status": "completed"
    },
    "tags": []
   },
   "outputs": [
    {
     "data": {
      "text/html": [
       "<div>\n",
       "<style scoped>\n",
       "    .dataframe tbody tr th:only-of-type {\n",
       "        vertical-align: middle;\n",
       "    }\n",
       "\n",
       "    .dataframe tbody tr th {\n",
       "        vertical-align: top;\n",
       "    }\n",
       "\n",
       "    .dataframe thead th {\n",
       "        text-align: right;\n",
       "    }\n",
       "</style>\n",
       "<table border=\"1\" class=\"dataframe\">\n",
       "  <thead>\n",
       "    <tr style=\"text-align: right;\">\n",
       "      <th></th>\n",
       "      <th>Disease</th>\n",
       "      <th>Fever</th>\n",
       "      <th>Cough</th>\n",
       "      <th>Fatigue</th>\n",
       "      <th>Difficulty Breathing</th>\n",
       "      <th>Age</th>\n",
       "      <th>Gender</th>\n",
       "      <th>Blood Pressure</th>\n",
       "      <th>Cholesterol Level</th>\n",
       "      <th>Outcome Variable</th>\n",
       "    </tr>\n",
       "  </thead>\n",
       "  <tbody>\n",
       "    <tr>\n",
       "      <th>0</th>\n",
       "      <td>Influenza</td>\n",
       "      <td>Yes</td>\n",
       "      <td>No</td>\n",
       "      <td>Yes</td>\n",
       "      <td>Yes</td>\n",
       "      <td>19</td>\n",
       "      <td>Female</td>\n",
       "      <td>Low</td>\n",
       "      <td>Normal</td>\n",
       "      <td>Positive</td>\n",
       "    </tr>\n",
       "    <tr>\n",
       "      <th>1</th>\n",
       "      <td>Common Cold</td>\n",
       "      <td>No</td>\n",
       "      <td>Yes</td>\n",
       "      <td>Yes</td>\n",
       "      <td>No</td>\n",
       "      <td>25</td>\n",
       "      <td>Female</td>\n",
       "      <td>Normal</td>\n",
       "      <td>Normal</td>\n",
       "      <td>Negative</td>\n",
       "    </tr>\n",
       "    <tr>\n",
       "      <th>2</th>\n",
       "      <td>Eczema</td>\n",
       "      <td>No</td>\n",
       "      <td>Yes</td>\n",
       "      <td>Yes</td>\n",
       "      <td>No</td>\n",
       "      <td>25</td>\n",
       "      <td>Female</td>\n",
       "      <td>Normal</td>\n",
       "      <td>Normal</td>\n",
       "      <td>Negative</td>\n",
       "    </tr>\n",
       "    <tr>\n",
       "      <th>3</th>\n",
       "      <td>Asthma</td>\n",
       "      <td>Yes</td>\n",
       "      <td>Yes</td>\n",
       "      <td>No</td>\n",
       "      <td>Yes</td>\n",
       "      <td>25</td>\n",
       "      <td>Male</td>\n",
       "      <td>Normal</td>\n",
       "      <td>Normal</td>\n",
       "      <td>Positive</td>\n",
       "    </tr>\n",
       "    <tr>\n",
       "      <th>4</th>\n",
       "      <td>Asthma</td>\n",
       "      <td>Yes</td>\n",
       "      <td>Yes</td>\n",
       "      <td>No</td>\n",
       "      <td>Yes</td>\n",
       "      <td>25</td>\n",
       "      <td>Male</td>\n",
       "      <td>Normal</td>\n",
       "      <td>Normal</td>\n",
       "      <td>Positive</td>\n",
       "    </tr>\n",
       "    <tr>\n",
       "      <th>...</th>\n",
       "      <td>...</td>\n",
       "      <td>...</td>\n",
       "      <td>...</td>\n",
       "      <td>...</td>\n",
       "      <td>...</td>\n",
       "      <td>...</td>\n",
       "      <td>...</td>\n",
       "      <td>...</td>\n",
       "      <td>...</td>\n",
       "      <td>...</td>\n",
       "    </tr>\n",
       "    <tr>\n",
       "      <th>344</th>\n",
       "      <td>Stroke</td>\n",
       "      <td>Yes</td>\n",
       "      <td>No</td>\n",
       "      <td>Yes</td>\n",
       "      <td>No</td>\n",
       "      <td>80</td>\n",
       "      <td>Female</td>\n",
       "      <td>High</td>\n",
       "      <td>High</td>\n",
       "      <td>Positive</td>\n",
       "    </tr>\n",
       "    <tr>\n",
       "      <th>345</th>\n",
       "      <td>Stroke</td>\n",
       "      <td>Yes</td>\n",
       "      <td>No</td>\n",
       "      <td>Yes</td>\n",
       "      <td>No</td>\n",
       "      <td>85</td>\n",
       "      <td>Male</td>\n",
       "      <td>High</td>\n",
       "      <td>High</td>\n",
       "      <td>Positive</td>\n",
       "    </tr>\n",
       "    <tr>\n",
       "      <th>346</th>\n",
       "      <td>Stroke</td>\n",
       "      <td>Yes</td>\n",
       "      <td>No</td>\n",
       "      <td>Yes</td>\n",
       "      <td>No</td>\n",
       "      <td>85</td>\n",
       "      <td>Male</td>\n",
       "      <td>High</td>\n",
       "      <td>High</td>\n",
       "      <td>Positive</td>\n",
       "    </tr>\n",
       "    <tr>\n",
       "      <th>347</th>\n",
       "      <td>Stroke</td>\n",
       "      <td>Yes</td>\n",
       "      <td>No</td>\n",
       "      <td>Yes</td>\n",
       "      <td>No</td>\n",
       "      <td>90</td>\n",
       "      <td>Female</td>\n",
       "      <td>High</td>\n",
       "      <td>High</td>\n",
       "      <td>Positive</td>\n",
       "    </tr>\n",
       "    <tr>\n",
       "      <th>348</th>\n",
       "      <td>Stroke</td>\n",
       "      <td>Yes</td>\n",
       "      <td>No</td>\n",
       "      <td>Yes</td>\n",
       "      <td>No</td>\n",
       "      <td>90</td>\n",
       "      <td>Female</td>\n",
       "      <td>High</td>\n",
       "      <td>High</td>\n",
       "      <td>Positive</td>\n",
       "    </tr>\n",
       "  </tbody>\n",
       "</table>\n",
       "<p>349 rows × 10 columns</p>\n",
       "</div>"
      ],
      "text/plain": [
       "         Disease Fever Cough Fatigue Difficulty Breathing  Age  Gender  \\\n",
       "0      Influenza   Yes    No     Yes                  Yes   19  Female   \n",
       "1    Common Cold    No   Yes     Yes                   No   25  Female   \n",
       "2         Eczema    No   Yes     Yes                   No   25  Female   \n",
       "3         Asthma   Yes   Yes      No                  Yes   25    Male   \n",
       "4         Asthma   Yes   Yes      No                  Yes   25    Male   \n",
       "..           ...   ...   ...     ...                  ...  ...     ...   \n",
       "344       Stroke   Yes    No     Yes                   No   80  Female   \n",
       "345       Stroke   Yes    No     Yes                   No   85    Male   \n",
       "346       Stroke   Yes    No     Yes                   No   85    Male   \n",
       "347       Stroke   Yes    No     Yes                   No   90  Female   \n",
       "348       Stroke   Yes    No     Yes                   No   90  Female   \n",
       "\n",
       "    Blood Pressure Cholesterol Level Outcome Variable  \n",
       "0              Low            Normal         Positive  \n",
       "1           Normal            Normal         Negative  \n",
       "2           Normal            Normal         Negative  \n",
       "3           Normal            Normal         Positive  \n",
       "4           Normal            Normal         Positive  \n",
       "..             ...               ...              ...  \n",
       "344           High              High         Positive  \n",
       "345           High              High         Positive  \n",
       "346           High              High         Positive  \n",
       "347           High              High         Positive  \n",
       "348           High              High         Positive  \n",
       "\n",
       "[349 rows x 10 columns]"
      ]
     },
     "execution_count": 2,
     "metadata": {},
     "output_type": "execute_result"
    }
   ],
   "source": [
    "df = pd.read_csv('./disease-symptoms-dataset.csv')\n",
    "df"
   ]
  },
  {
   "cell_type": "markdown",
   "id": "fc6225db",
   "metadata": {
    "papermill": {
     "duration": 0.009574,
     "end_time": "2023-10-01T07:41:38.527592",
     "exception": false,
     "start_time": "2023-10-01T07:41:38.518018",
     "status": "completed"
    },
    "tags": []
   },
   "source": [
    "### Data Cleaning"
   ]
  },
  {
   "cell_type": "code",
   "execution_count": 3,
   "id": "121d22cb",
   "metadata": {
    "execution": {
     "iopub.execute_input": "2023-10-01T07:41:38.549047Z",
     "iopub.status.busy": "2023-10-01T07:41:38.548714Z",
     "iopub.status.idle": "2023-10-01T07:41:38.556996Z",
     "shell.execute_reply": "2023-10-01T07:41:38.555873Z"
    },
    "papermill": {
     "duration": 0.021565,
     "end_time": "2023-10-01T07:41:38.559224",
     "exception": false,
     "start_time": "2023-10-01T07:41:38.537659",
     "status": "completed"
    },
    "tags": []
   },
   "outputs": [
    {
     "data": {
      "text/plain": [
       "Disease                 0\n",
       "Fever                   0\n",
       "Cough                   0\n",
       "Fatigue                 0\n",
       "Difficulty Breathing    0\n",
       "Age                     0\n",
       "Gender                  0\n",
       "Blood Pressure          0\n",
       "Cholesterol Level       0\n",
       "Outcome Variable        0\n",
       "dtype: int64"
      ]
     },
     "execution_count": 3,
     "metadata": {},
     "output_type": "execute_result"
    }
   ],
   "source": [
    "df.isnull().sum()"
   ]
  },
  {
   "cell_type": "code",
   "execution_count": 4,
   "id": "76bad680",
   "metadata": {
    "execution": {
     "iopub.execute_input": "2023-10-01T07:41:38.580404Z",
     "iopub.status.busy": "2023-10-01T07:41:38.580043Z",
     "iopub.status.idle": "2023-10-01T07:41:38.599468Z",
     "shell.execute_reply": "2023-10-01T07:41:38.598289Z"
    },
    "papermill": {
     "duration": 0.032602,
     "end_time": "2023-10-01T07:41:38.601639",
     "exception": false,
     "start_time": "2023-10-01T07:41:38.569037",
     "status": "completed"
    },
    "tags": []
   },
   "outputs": [
    {
     "data": {
      "text/plain": [
       "49"
      ]
     },
     "execution_count": 4,
     "metadata": {},
     "output_type": "execute_result"
    }
   ],
   "source": [
    "df.duplicated().sum()"
   ]
  },
  {
   "cell_type": "code",
   "execution_count": 6,
   "id": "bc990060",
   "metadata": {
    "execution": {
     "iopub.execute_input": "2023-10-01T07:41:38.655293Z",
     "iopub.status.busy": "2023-10-01T07:41:38.654921Z",
     "iopub.status.idle": "2023-10-01T07:41:38.664205Z",
     "shell.execute_reply": "2023-10-01T07:41:38.662599Z"
    },
    "papermill": {
     "duration": 0.023215,
     "end_time": "2023-10-01T07:41:38.667117",
     "exception": false,
     "start_time": "2023-10-01T07:41:38.643902",
     "status": "completed"
    },
    "tags": []
   },
   "outputs": [
    {
     "data": {
      "text/plain": [
       "0"
      ]
     },
     "execution_count": 6,
     "metadata": {},
     "output_type": "execute_result"
    }
   ],
   "source": [
    "df = df.drop_duplicates(keep='first')\n",
    "df.duplicated().sum()"
   ]
  },
  {
   "cell_type": "code",
   "execution_count": null,
   "id": "a7c8c423",
   "metadata": {
    "execution": {
     "iopub.execute_input": "2023-10-01T07:41:38.689023Z",
     "iopub.status.busy": "2023-10-01T07:41:38.688657Z",
     "iopub.status.idle": "2023-10-01T07:41:38.694572Z",
     "shell.execute_reply": "2023-10-01T07:41:38.693580Z"
    },
    "papermill": {
     "duration": 0.019702,
     "end_time": "2023-10-01T07:41:38.696958",
     "exception": false,
     "start_time": "2023-10-01T07:41:38.677256",
     "status": "completed"
    },
    "tags": []
   },
   "outputs": [],
   "source": [
    "df.rename(columns = {'Outcome Variable':'Results'},inplace=True)"
   ]
  },
  {
   "cell_type": "code",
   "execution_count": 8,
   "id": "e548cc86",
   "metadata": {
    "execution": {
     "iopub.execute_input": "2023-10-01T07:41:38.718394Z",
     "iopub.status.busy": "2023-10-01T07:41:38.718040Z",
     "iopub.status.idle": "2023-10-01T07:41:38.733422Z",
     "shell.execute_reply": "2023-10-01T07:41:38.732677Z"
    },
    "papermill": {
     "duration": 0.028469,
     "end_time": "2023-10-01T07:41:38.735473",
     "exception": false,
     "start_time": "2023-10-01T07:41:38.707004",
     "status": "completed"
    },
    "tags": []
   },
   "outputs": [
    {
     "data": {
      "text/html": [
       "<div>\n",
       "<style scoped>\n",
       "    .dataframe tbody tr th:only-of-type {\n",
       "        vertical-align: middle;\n",
       "    }\n",
       "\n",
       "    .dataframe tbody tr th {\n",
       "        vertical-align: top;\n",
       "    }\n",
       "\n",
       "    .dataframe thead th {\n",
       "        text-align: right;\n",
       "    }\n",
       "</style>\n",
       "<table border=\"1\" class=\"dataframe\">\n",
       "  <thead>\n",
       "    <tr style=\"text-align: right;\">\n",
       "      <th></th>\n",
       "      <th>Disease</th>\n",
       "      <th>Fever</th>\n",
       "      <th>Cough</th>\n",
       "      <th>Fatigue</th>\n",
       "      <th>Difficulty Breathing</th>\n",
       "      <th>Age</th>\n",
       "      <th>Gender</th>\n",
       "      <th>Blood Pressure</th>\n",
       "      <th>Cholesterol Level</th>\n",
       "      <th>Results</th>\n",
       "    </tr>\n",
       "  </thead>\n",
       "  <tbody>\n",
       "    <tr>\n",
       "      <th>0</th>\n",
       "      <td>Influenza</td>\n",
       "      <td>Yes</td>\n",
       "      <td>No</td>\n",
       "      <td>Yes</td>\n",
       "      <td>Yes</td>\n",
       "      <td>19</td>\n",
       "      <td>Female</td>\n",
       "      <td>Low</td>\n",
       "      <td>Normal</td>\n",
       "      <td>Positive</td>\n",
       "    </tr>\n",
       "    <tr>\n",
       "      <th>1</th>\n",
       "      <td>Common Cold</td>\n",
       "      <td>No</td>\n",
       "      <td>Yes</td>\n",
       "      <td>Yes</td>\n",
       "      <td>No</td>\n",
       "      <td>25</td>\n",
       "      <td>Female</td>\n",
       "      <td>Normal</td>\n",
       "      <td>Normal</td>\n",
       "      <td>Negative</td>\n",
       "    </tr>\n",
       "    <tr>\n",
       "      <th>2</th>\n",
       "      <td>Eczema</td>\n",
       "      <td>No</td>\n",
       "      <td>Yes</td>\n",
       "      <td>Yes</td>\n",
       "      <td>No</td>\n",
       "      <td>25</td>\n",
       "      <td>Female</td>\n",
       "      <td>Normal</td>\n",
       "      <td>Normal</td>\n",
       "      <td>Negative</td>\n",
       "    </tr>\n",
       "    <tr>\n",
       "      <th>3</th>\n",
       "      <td>Asthma</td>\n",
       "      <td>Yes</td>\n",
       "      <td>Yes</td>\n",
       "      <td>No</td>\n",
       "      <td>Yes</td>\n",
       "      <td>25</td>\n",
       "      <td>Male</td>\n",
       "      <td>Normal</td>\n",
       "      <td>Normal</td>\n",
       "      <td>Positive</td>\n",
       "    </tr>\n",
       "    <tr>\n",
       "      <th>5</th>\n",
       "      <td>Eczema</td>\n",
       "      <td>Yes</td>\n",
       "      <td>No</td>\n",
       "      <td>No</td>\n",
       "      <td>No</td>\n",
       "      <td>25</td>\n",
       "      <td>Female</td>\n",
       "      <td>Normal</td>\n",
       "      <td>Normal</td>\n",
       "      <td>Positive</td>\n",
       "    </tr>\n",
       "    <tr>\n",
       "      <th>...</th>\n",
       "      <td>...</td>\n",
       "      <td>...</td>\n",
       "      <td>...</td>\n",
       "      <td>...</td>\n",
       "      <td>...</td>\n",
       "      <td>...</td>\n",
       "      <td>...</td>\n",
       "      <td>...</td>\n",
       "      <td>...</td>\n",
       "      <td>...</td>\n",
       "    </tr>\n",
       "    <tr>\n",
       "      <th>341</th>\n",
       "      <td>Tonsillitis</td>\n",
       "      <td>Yes</td>\n",
       "      <td>Yes</td>\n",
       "      <td>Yes</td>\n",
       "      <td>No</td>\n",
       "      <td>70</td>\n",
       "      <td>Female</td>\n",
       "      <td>High</td>\n",
       "      <td>High</td>\n",
       "      <td>Positive</td>\n",
       "    </tr>\n",
       "    <tr>\n",
       "      <th>342</th>\n",
       "      <td>Williams Syndrome</td>\n",
       "      <td>No</td>\n",
       "      <td>No</td>\n",
       "      <td>Yes</td>\n",
       "      <td>No</td>\n",
       "      <td>70</td>\n",
       "      <td>Female</td>\n",
       "      <td>Normal</td>\n",
       "      <td>Normal</td>\n",
       "      <td>Positive</td>\n",
       "    </tr>\n",
       "    <tr>\n",
       "      <th>343</th>\n",
       "      <td>Stroke</td>\n",
       "      <td>Yes</td>\n",
       "      <td>No</td>\n",
       "      <td>Yes</td>\n",
       "      <td>No</td>\n",
       "      <td>80</td>\n",
       "      <td>Female</td>\n",
       "      <td>High</td>\n",
       "      <td>High</td>\n",
       "      <td>Positive</td>\n",
       "    </tr>\n",
       "    <tr>\n",
       "      <th>345</th>\n",
       "      <td>Stroke</td>\n",
       "      <td>Yes</td>\n",
       "      <td>No</td>\n",
       "      <td>Yes</td>\n",
       "      <td>No</td>\n",
       "      <td>85</td>\n",
       "      <td>Male</td>\n",
       "      <td>High</td>\n",
       "      <td>High</td>\n",
       "      <td>Positive</td>\n",
       "    </tr>\n",
       "    <tr>\n",
       "      <th>347</th>\n",
       "      <td>Stroke</td>\n",
       "      <td>Yes</td>\n",
       "      <td>No</td>\n",
       "      <td>Yes</td>\n",
       "      <td>No</td>\n",
       "      <td>90</td>\n",
       "      <td>Female</td>\n",
       "      <td>High</td>\n",
       "      <td>High</td>\n",
       "      <td>Positive</td>\n",
       "    </tr>\n",
       "  </tbody>\n",
       "</table>\n",
       "<p>300 rows × 10 columns</p>\n",
       "</div>"
      ],
      "text/plain": [
       "               Disease Fever Cough Fatigue Difficulty Breathing  Age  Gender  \\\n",
       "0            Influenza   Yes    No     Yes                  Yes   19  Female   \n",
       "1          Common Cold    No   Yes     Yes                   No   25  Female   \n",
       "2               Eczema    No   Yes     Yes                   No   25  Female   \n",
       "3               Asthma   Yes   Yes      No                  Yes   25    Male   \n",
       "5               Eczema   Yes    No      No                   No   25  Female   \n",
       "..                 ...   ...   ...     ...                  ...  ...     ...   \n",
       "341        Tonsillitis   Yes   Yes     Yes                   No   70  Female   \n",
       "342  Williams Syndrome    No    No     Yes                   No   70  Female   \n",
       "343             Stroke   Yes    No     Yes                   No   80  Female   \n",
       "345             Stroke   Yes    No     Yes                   No   85    Male   \n",
       "347             Stroke   Yes    No     Yes                   No   90  Female   \n",
       "\n",
       "    Blood Pressure Cholesterol Level   Results  \n",
       "0              Low            Normal  Positive  \n",
       "1           Normal            Normal  Negative  \n",
       "2           Normal            Normal  Negative  \n",
       "3           Normal            Normal  Positive  \n",
       "5           Normal            Normal  Positive  \n",
       "..             ...               ...       ...  \n",
       "341           High              High  Positive  \n",
       "342         Normal            Normal  Positive  \n",
       "343           High              High  Positive  \n",
       "345           High              High  Positive  \n",
       "347           High              High  Positive  \n",
       "\n",
       "[300 rows x 10 columns]"
      ]
     },
     "execution_count": 8,
     "metadata": {},
     "output_type": "execute_result"
    }
   ],
   "source": [
    "df"
   ]
  },
  {
   "cell_type": "markdown",
   "id": "c3bb54a6",
   "metadata": {
    "papermill": {
     "duration": 0.00973,
     "end_time": "2023-10-01T07:41:38.755375",
     "exception": false,
     "start_time": "2023-10-01T07:41:38.745645",
     "status": "completed"
    },
    "tags": []
   },
   "source": [
    "### Performing EDA"
   ]
  },
  {
   "cell_type": "code",
   "execution_count": 9,
   "id": "076c55cf",
   "metadata": {
    "execution": {
     "iopub.execute_input": "2023-10-01T07:41:38.776998Z",
     "iopub.status.busy": "2023-10-01T07:41:38.776667Z",
     "iopub.status.idle": "2023-10-01T07:41:38.785530Z",
     "shell.execute_reply": "2023-10-01T07:41:38.784544Z"
    },
    "papermill": {
     "duration": 0.022285,
     "end_time": "2023-10-01T07:41:38.787660",
     "exception": false,
     "start_time": "2023-10-01T07:41:38.765375",
     "status": "completed"
    },
    "tags": []
   },
   "outputs": [
    {
     "data": {
      "text/plain": [
       "300"
      ]
     },
     "execution_count": 9,
     "metadata": {},
     "output_type": "execute_result"
    }
   ],
   "source": [
    "df['Disease'].value_counts().sum()"
   ]
  },
  {
   "cell_type": "code",
   "execution_count": 10,
   "id": "0165a068",
   "metadata": {
    "execution": {
     "iopub.execute_input": "2023-10-01T07:41:38.810156Z",
     "iopub.status.busy": "2023-10-01T07:41:38.809799Z",
     "iopub.status.idle": "2023-10-01T07:41:38.825892Z",
     "shell.execute_reply": "2023-10-01T07:41:38.824715Z"
    },
    "papermill": {
     "duration": 0.030184,
     "end_time": "2023-10-01T07:41:38.828148",
     "exception": false,
     "start_time": "2023-10-01T07:41:38.797964",
     "status": "completed"
    },
    "tags": []
   },
   "outputs": [
    {
     "name": "stdout",
     "output_type": "stream",
     "text": [
      "<class 'pandas.core.frame.DataFrame'>\n",
      "Index: 300 entries, 0 to 347\n",
      "Data columns (total 10 columns):\n",
      " #   Column                Non-Null Count  Dtype \n",
      "---  ------                --------------  ----- \n",
      " 0   Disease               300 non-null    object\n",
      " 1   Fever                 300 non-null    object\n",
      " 2   Cough                 300 non-null    object\n",
      " 3   Fatigue               300 non-null    object\n",
      " 4   Difficulty Breathing  300 non-null    object\n",
      " 5   Age                   300 non-null    int64 \n",
      " 6   Gender                300 non-null    object\n",
      " 7   Blood Pressure        300 non-null    object\n",
      " 8   Cholesterol Level     300 non-null    object\n",
      " 9   Results               300 non-null    object\n",
      "dtypes: int64(1), object(9)\n",
      "memory usage: 25.8+ KB\n"
     ]
    }
   ],
   "source": [
    "df.info()"
   ]
  },
  {
   "cell_type": "code",
   "execution_count": 11,
   "id": "65cd3aa2",
   "metadata": {
    "execution": {
     "iopub.execute_input": "2023-10-01T07:41:38.912112Z",
     "iopub.status.busy": "2023-10-01T07:41:38.911773Z",
     "iopub.status.idle": "2023-10-01T07:41:38.917892Z",
     "shell.execute_reply": "2023-10-01T07:41:38.916955Z"
    },
    "papermill": {
     "duration": 0.020073,
     "end_time": "2023-10-01T07:41:38.919838",
     "exception": false,
     "start_time": "2023-10-01T07:41:38.899765",
     "status": "completed"
    },
    "tags": []
   },
   "outputs": [
    {
     "data": {
      "text/plain": [
       "45.75666666666667"
      ]
     },
     "execution_count": 11,
     "metadata": {},
     "output_type": "execute_result"
    }
   ],
   "source": [
    "df['Age'].mean()"
   ]
  },
  {
   "cell_type": "code",
   "execution_count": 12,
   "id": "69b5786a",
   "metadata": {
    "execution": {
     "iopub.execute_input": "2023-10-01T07:41:38.943587Z",
     "iopub.status.busy": "2023-10-01T07:41:38.943178Z",
     "iopub.status.idle": "2023-10-01T07:41:39.122236Z",
     "shell.execute_reply": "2023-10-01T07:41:39.121177Z"
    },
    "papermill": {
     "duration": 0.195537,
     "end_time": "2023-10-01T07:41:39.126367",
     "exception": false,
     "start_time": "2023-10-01T07:41:38.930830",
     "status": "completed"
    },
    "tags": []
   },
   "outputs": [
    {
     "data": {
      "text/plain": [
       "<Axes: ylabel='count'>"
      ]
     },
     "execution_count": 12,
     "metadata": {},
     "output_type": "execute_result"
    },
    {
     "data": {
      "image/png": "[encoded data removed]",
      "text/plain": [
       "<Figure size 640x480 with 1 Axes>"
      ]
     },
     "metadata": {},
     "output_type": "display_data"
    }
   ],
   "source": [
    "df[df.loc[:,'Age'] > 45]['Results'].value_counts().plot(kind='pie')"
   ]
  },
  {
   "cell_type": "code",
   "execution_count": 13,
   "id": "d5714d62",
   "metadata": {
    "execution": {
     "iopub.execute_input": "2023-10-01T07:41:39.190537Z",
     "iopub.status.busy": "2023-10-01T07:41:39.189463Z",
     "iopub.status.idle": "2023-10-01T07:41:39.307087Z",
     "shell.execute_reply": "2023-10-01T07:41:39.305668Z"
    },
    "papermill": {
     "duration": 0.15232,
     "end_time": "2023-10-01T07:41:39.310913",
     "exception": false,
     "start_time": "2023-10-01T07:41:39.158593",
     "status": "completed"
    },
    "tags": []
   },
   "outputs": [
    {
     "data": {
      "text/plain": [
       "<Axes: ylabel='count'>"
      ]
     },
     "execution_count": 13,
     "metadata": {},
     "output_type": "execute_result"
    },
    {
     "data": {
      "image/png": "[encoded data removed]",
      "text/plain": [
       "<Figure size 640x480 with 1 Axes>"
      ]
     },
     "metadata": {},
     "output_type": "display_data"
    }
   ],
   "source": [
    "df[df.loc[:,'Age'] < 45]['Results'].value_counts().plot(kind='pie')"
   ]
  },
  {
   "cell_type": "code",
   "execution_count": 15,
   "id": "16b0ab4b",
   "metadata": {
    "execution": {
     "iopub.execute_input": "2023-10-01T07:41:40.156622Z",
     "iopub.status.busy": "2023-10-01T07:41:40.156036Z",
     "iopub.status.idle": "2023-10-01T07:41:42.369681Z",
     "shell.execute_reply": "2023-10-01T07:41:42.368597Z"
    },
    "papermill": {
     "duration": 2.228412,
     "end_time": "2023-10-01T07:41:42.372007",
     "exception": false,
     "start_time": "2023-10-01T07:41:40.143595",
     "status": "completed"
    },
    "tags": []
   },
   "outputs": [
    {
     "data": {
      "application/vnd.plotly.v1+json": {
       "config": {
        "plotlyServerURL": "https://plot.ly"
       },
       "data": [
        {
         "alignmentgroup": "True",
         "bingroup": "x",
         "hovertemplate": "Disease=Influenza<br>Age=%{x}<br>count=%{y}<extra></extra>",
         "legendgroup": "Influenza",
         "marker": {
          "color": "#636efa",
          "pattern": {
           "shape": ""
          }
         },
         "name": "Influenza",
         "offsetgroup": "Influenza",
         "orientation": "v",
         "showlegend": true,
         "type": "histogram",
         "x": [
          19,
          25,
          30,
          30,
          38,
          42,
          56
         ],
         "xaxis": "x",
         "yaxis": "y"
        },
        {
         "alignmentgroup": "True",
         "bingroup": "x",
         "hovertemplate": "Disease=Common Cold<br>Age=%{x}<br>count=%{y}<extra></extra>",
         "legendgroup": "Common Cold",
         "marker": {
          "color": "#EF553B",
          "pattern": {
           "shape": ""
          }
         },
         "name": "Common Cold",
         "offsetgroup": "Common Cold",
         "orientation": "v",
         "showlegend": true,
         "type": "histogram",
         "x": [
          25,
          29,
          31,
          35,
          42,
          55
         ],
         "xaxis": "x",
         "yaxis": "y"
        },
        {
         "alignmentgroup": "True",
         "bingroup": "x",
         "hovertemplate": "Disease=Eczema<br>Age=%{x}<br>count=%{y}<extra></extra>",
         "legendgroup": "Eczema",
         "marker": {
          "color": "#00cc96",
          "pattern": {
           "shape": ""
          }
         },
         "name": "Eczema",
         "offsetgroup": "Eczema",
         "orientation": "v",
         "showlegend": true,
         "type": "histogram",
         "x": [
          25,
          25,
          30,
          30,
          35,
          50
         ],
         "xaxis": "x",
         "yaxis": "y"
        },
        {
         "alignmentgroup": "True",
         "bingroup": "x",
         "hovertemplate": "Disease=Asthma<br>Age=%{x}<br>count=%{y}<extra></extra>",
         "legendgroup": "Asthma",
         "marker": {
          "color": "#ab63fa",
          "pattern": {
           "shape": ""
          }
         },
         "name": "Asthma",
         "offsetgroup": "Asthma",
         "orientation": "v",
         "showlegend": true,
         "type": "histogram",
         "x": [
          25,
          28,
          30,
          30,
          31,
          35,
          35,
          35,
          35,
          40,
          40,
          40,
          40,
          45,
          50,
          60
         ],
         "xaxis": "x",
         "yaxis": "y"
        },
        {
         "alignmentgroup": "True",
         "bingroup": "x",
         "hovertemplate": "Disease=Hyperthyroidism<br>Age=%{x}<br>count=%{y}<extra></extra>",
         "legendgroup": "Hyperthyroidism",
         "marker": {
          "color": "#FFA15A",
          "pattern": {
           "shape": ""
          }
         },
         "name": "Hyperthyroidism",
         "offsetgroup": "Hyperthyroidism",
         "orientation": "v",
         "showlegend": true,
         "type": "histogram",
         "x": [
          28,
          35,
          35,
          40,
          60
         ],
         "xaxis": "x",
         "yaxis": "y"
        },
        {
         "alignmentgroup": "True",
         "bingroup": "x",
         "hovertemplate": "Disease=Allergic Rhinitis<br>Age=%{x}<br>count=%{y}<extra></extra>",
         "legendgroup": "Allergic Rhinitis",
         "marker": {
          "color": "#19d3f3",
          "pattern": {
           "shape": ""
          }
         },
         "name": "Allergic Rhinitis",
         "offsetgroup": "Allergic Rhinitis",
         "orientation": "v",
         "showlegend": true,
         "type": "histogram",
         "x": [
          29,
          35,
          38,
          45,
          45,
          50
         ],
         "xaxis": "x",
         "yaxis": "y"
        },
        {
         "alignmentgroup": "True",
         "bingroup": "x",
         "hovertemplate": "Disease=Anxiety Disorders<br>Age=%{x}<br>count=%{y}<extra></extra>",
         "legendgroup": "Anxiety Disorders",
         "marker": {
          "color": "#FF6692",
          "pattern": {
           "shape": ""
          }
         },
         "name": "Anxiety Disorders",
         "offsetgroup": "Anxiety Disorders",
         "orientation": "v",
         "showlegend": true,
         "type": "histogram",
         "x": [
          29,
          38,
          42,
          45,
          50,
          55
         ],
         "xaxis": "x",
         "yaxis": "y"
        },
        {
         "alignmentgroup": "True",
         "bingroup": "x",
         "hovertemplate": "Disease=Diabetes<br>Age=%{x}<br>count=%{y}<extra></extra>",
         "legendgroup": "Diabetes",
         "marker": {
          "color": "#B6E880",
          "pattern": {
           "shape": ""
          }
         },
         "name": "Diabetes",
         "offsetgroup": "Diabetes",
         "orientation": "v",
         "showlegend": true,
         "type": "histogram",
         "x": [
          29,
          38,
          40,
          42,
          45,
          45,
          50,
          55,
          65,
          65
         ],
         "xaxis": "x",
         "yaxis": "y"
        },
        {
         "alignmentgroup": "True",
         "bingroup": "x",
         "hovertemplate": "Disease=Gastroenteritis<br>Age=%{x}<br>count=%{y}<extra></extra>",
         "legendgroup": "Gastroenteritis",
         "marker": {
          "color": "#FF97FF",
          "pattern": {
           "shape": ""
          }
         },
         "name": "Gastroenteritis",
         "offsetgroup": "Gastroenteritis",
         "orientation": "v",
         "showlegend": true,
         "type": "histogram",
         "x": [
          29,
          30,
          35,
          38,
          40,
          50
         ],
         "xaxis": "x",
         "yaxis": "y"
        },
        {
         "alignmentgroup": "True",
         "bingroup": "x",
         "hovertemplate": "Disease=Pancreatitis<br>Age=%{x}<br>count=%{y}<extra></extra>",
         "legendgroup": "Pancreatitis",
         "marker": {
          "color": "#FECB52",
          "pattern": {
           "shape": ""
          }
         },
         "name": "Pancreatitis",
         "offsetgroup": "Pancreatitis",
         "orientation": "v",
         "showlegend": true,
         "type": "histogram",
         "x": [
          29,
          35,
          45,
          50,
          60
         ],
         "xaxis": "x",
         "yaxis": "y"
        },
        {
         "alignmentgroup": "True",
         "bingroup": "x",
         "hovertemplate": "Disease=Rheumatoid Arthritis<br>Age=%{x}<br>count=%{y}<extra></extra>",
         "legendgroup": "Rheumatoid Arthritis",
         "marker": {
          "color": "#636efa",
          "pattern": {
           "shape": ""
          }
         },
         "name": "Rheumatoid Arthritis",
         "offsetgroup": "Rheumatoid Arthritis",
         "orientation": "v",
         "showlegend": true,
         "type": "histogram",
         "x": [
          29,
          35,
          35,
          45,
          50,
          60
         ],
         "xaxis": "x",
         "yaxis": "y"
        },
        {
         "alignmentgroup": "True",
         "bingroup": "x",
         "hovertemplate": "Disease=Depression<br>Age=%{x}<br>count=%{y}<extra></extra>",
         "legendgroup": "Depression",
         "marker": {
          "color": "#EF553B",
          "pattern": {
           "shape": ""
          }
         },
         "name": "Depression",
         "offsetgroup": "Depression",
         "orientation": "v",
         "showlegend": true,
         "type": "histogram",
         "x": [
          29,
          35,
          38,
          42,
          45,
          50
         ],
         "xaxis": "x",
         "yaxis": "y"
        },
        {
         "alignmentgroup": "True",
         "bingroup": "x",
         "hovertemplate": "Disease=Liver Cancer<br>Age=%{x}<br>count=%{y}<extra></extra>",
         "legendgroup": "Liver Cancer",
         "marker": {
          "color": "#00cc96",
          "pattern": {
           "shape": ""
          }
         },
         "name": "Liver Cancer",
         "offsetgroup": "Liver Cancer",
         "orientation": "v",
         "showlegend": true,
         "type": "histogram",
         "x": [
          29,
          35,
          38,
          42,
          50,
          65
         ],
         "xaxis": "x",
         "yaxis": "y"
        },
        {
         "alignmentgroup": "True",
         "bingroup": "x",
         "hovertemplate": "Disease=Stroke<br>Age=%{x}<br>count=%{y}<extra></extra>",
         "legendgroup": "Stroke",
         "marker": {
          "color": "#ab63fa",
          "pattern": {
           "shape": ""
          }
         },
         "name": "Stroke",
         "offsetgroup": "Stroke",
         "orientation": "v",
         "showlegend": true,
         "type": "histogram",
         "x": [
          29,
          38,
          42,
          45,
          50,
          65,
          65,
          70,
          80,
          85,
          90
         ],
         "xaxis": "x",
         "yaxis": "y"
        },
        {
         "alignmentgroup": "True",
         "bingroup": "x",
         "hovertemplate": "Disease=Urinary Tract Infection<br>Age=%{x}<br>count=%{y}<extra></extra>",
         "legendgroup": "Urinary Tract Infection",
         "marker": {
          "color": "#FFA15A",
          "pattern": {
           "shape": ""
          }
         },
         "name": "Urinary Tract Infection",
         "offsetgroup": "Urinary Tract Infection",
         "orientation": "v",
         "showlegend": true,
         "type": "histogram",
         "x": [
          29,
          35,
          42,
          45,
          50
         ],
         "xaxis": "x",
         "yaxis": "y"
        },
        {
         "alignmentgroup": "True",
         "bingroup": "x",
         "hovertemplate": "Disease=Dengue Fever<br>Age=%{x}<br>count=%{y}<extra></extra>",
         "legendgroup": "Dengue Fever",
         "marker": {
          "color": "#19d3f3",
          "pattern": {
           "shape": ""
          }
         },
         "name": "Dengue Fever",
         "offsetgroup": "Dengue Fever",
         "orientation": "v",
         "showlegend": true,
         "type": "histogram",
         "x": [
          30
         ],
         "xaxis": "x",
         "yaxis": "y"
        },
        {
         "alignmentgroup": "True",
         "bingroup": "x",
         "hovertemplate": "Disease=Hepatitis<br>Age=%{x}<br>count=%{y}<extra></extra>",
         "legendgroup": "Hepatitis",
         "marker": {
          "color": "#FF6692",
          "pattern": {
           "shape": ""
          }
         },
         "name": "Hepatitis",
         "offsetgroup": "Hepatitis",
         "orientation": "v",
         "showlegend": true,
         "type": "histogram",
         "x": [
          30,
          45
         ],
         "xaxis": "x",
         "yaxis": "y"
        },
        {
         "alignmentgroup": "True",
         "bingroup": "x",
         "hovertemplate": "Disease=Kidney Cancer<br>Age=%{x}<br>count=%{y}<extra></extra>",
         "legendgroup": "Kidney Cancer",
         "marker": {
          "color": "#B6E880",
          "pattern": {
           "shape": ""
          }
         },
         "name": "Kidney Cancer",
         "offsetgroup": "Kidney Cancer",
         "orientation": "v",
         "showlegend": true,
         "type": "histogram",
         "x": [
          30,
          35,
          42,
          45,
          50,
          60
         ],
         "xaxis": "x",
         "yaxis": "y"
        },
        {
         "alignmentgroup": "True",
         "bingroup": "x",
         "hovertemplate": "Disease=Migraine<br>Age=%{x}<br>count=%{y}<extra></extra>",
         "legendgroup": "Migraine",
         "marker": {
          "color": "#FF97FF",
          "pattern": {
           "shape": ""
          }
         },
         "name": "Migraine",
         "offsetgroup": "Migraine",
         "orientation": "v",
         "showlegend": true,
         "type": "histogram",
         "x": [
          30,
          30,
          31,
          35,
          35,
          38,
          42,
          45,
          55,
          70
         ],
         "xaxis": "x",
         "yaxis": "y"
        },
        {
         "alignmentgroup": "True",
         "bingroup": "x",
         "hovertemplate": "Disease=Muscular Dystrophy<br>Age=%{x}<br>count=%{y}<extra></extra>",
         "legendgroup": "Muscular Dystrophy",
         "marker": {
          "color": "#FECB52",
          "pattern": {
           "shape": ""
          }
         },
         "name": "Muscular Dystrophy",
         "offsetgroup": "Muscular Dystrophy",
         "orientation": "v",
         "showlegend": true,
         "type": "histogram",
         "x": [
          30
         ],
         "xaxis": "x",
         "yaxis": "y"
        },
        {
         "alignmentgroup": "True",
         "bingroup": "x",
         "hovertemplate": "Disease=Sinusitis<br>Age=%{x}<br>count=%{y}<extra></extra>",
         "legendgroup": "Sinusitis",
         "marker": {
          "color": "#636efa",
          "pattern": {
           "shape": ""
          }
         },
         "name": "Sinusitis",
         "offsetgroup": "Sinusitis",
         "orientation": "v",
         "showlegend": true,
         "type": "histogram",
         "x": [
          30
         ],
         "xaxis": "x",
         "yaxis": "y"
        },
        {
         "alignmentgroup": "True",
         "bingroup": "x",
         "hovertemplate": "Disease=Ulcerative Colitis<br>Age=%{x}<br>count=%{y}<extra></extra>",
         "legendgroup": "Ulcerative Colitis",
         "marker": {
          "color": "#EF553B",
          "pattern": {
           "shape": ""
          }
         },
         "name": "Ulcerative Colitis",
         "offsetgroup": "Ulcerative Colitis",
         "orientation": "v",
         "showlegend": true,
         "type": "histogram",
         "x": [
          30,
          30,
          35,
          35,
          50
         ],
         "xaxis": "x",
         "yaxis": "y"
        },
        {
         "alignmentgroup": "True",
         "bingroup": "x",
         "hovertemplate": "Disease=Bipolar Disorder<br>Age=%{x}<br>count=%{y}<extra></extra>",
         "legendgroup": "Bipolar Disorder",
         "marker": {
          "color": "#00cc96",
          "pattern": {
           "shape": ""
          }
         },
         "name": "Bipolar Disorder",
         "offsetgroup": "Bipolar Disorder",
         "orientation": "v",
         "showlegend": true,
         "type": "histogram",
         "x": [
          30
         ],
         "xaxis": "x",
         "yaxis": "y"
        },
        {
         "alignmentgroup": "True",
         "bingroup": "x",
         "hovertemplate": "Disease=Bronchitis<br>Age=%{x}<br>count=%{y}<extra></extra>",
         "legendgroup": "Bronchitis",
         "marker": {
          "color": "#ab63fa",
          "pattern": {
           "shape": ""
          }
         },
         "name": "Bronchitis",
         "offsetgroup": "Bronchitis",
         "orientation": "v",
         "showlegend": true,
         "type": "histogram",
         "x": [
          30,
          30,
          40,
          50,
          55,
          55,
          65
         ],
         "xaxis": "x",
         "yaxis": "y"
        },
        {
         "alignmentgroup": "True",
         "bingroup": "x",
         "hovertemplate": "Disease=Cerebral Palsy<br>Age=%{x}<br>count=%{y}<extra></extra>",
         "legendgroup": "Cerebral Palsy",
         "marker": {
          "color": "#FFA15A",
          "pattern": {
           "shape": ""
          }
         },
         "name": "Cerebral Palsy",
         "offsetgroup": "Cerebral Palsy",
         "orientation": "v",
         "showlegend": true,
         "type": "histogram",
         "x": [
          30
         ],
         "xaxis": "x",
         "yaxis": "y"
        },
        {
         "alignmentgroup": "True",
         "bingroup": "x",
         "hovertemplate": "Disease=Colorectal Cancer<br>Age=%{x}<br>count=%{y}<extra></extra>",
         "legendgroup": "Colorectal Cancer",
         "marker": {
          "color": "#19d3f3",
          "pattern": {
           "shape": ""
          }
         },
         "name": "Colorectal Cancer",
         "offsetgroup": "Colorectal Cancer",
         "orientation": "v",
         "showlegend": true,
         "type": "histogram",
         "x": [
          30
         ],
         "xaxis": "x",
         "yaxis": "y"
        },
        {
         "alignmentgroup": "True",
         "bingroup": "x",
         "hovertemplate": "Disease=Hypertensive Heart Disease<br>Age=%{x}<br>count=%{y}<extra></extra>",
         "legendgroup": "Hypertensive Heart Disease",
         "marker": {
          "color": "#FF6692",
          "pattern": {
           "shape": ""
          }
         },
         "name": "Hypertensive Heart Disease",
         "offsetgroup": "Hypertensive Heart Disease",
         "orientation": "v",
         "showlegend": true,
         "type": "histogram",
         "x": [
          30
         ],
         "xaxis": "x",
         "yaxis": "y"
        },
        {
         "alignmentgroup": "True",
         "bingroup": "x",
         "hovertemplate": "Disease=Multiple Sclerosis<br>Age=%{x}<br>count=%{y}<extra></extra>",
         "legendgroup": "Multiple Sclerosis",
         "marker": {
          "color": "#B6E880",
          "pattern": {
           "shape": ""
          }
         },
         "name": "Multiple Sclerosis",
         "offsetgroup": "Multiple Sclerosis",
         "orientation": "v",
         "showlegend": true,
         "type": "histogram",
         "x": [
          30,
          45,
          52
         ],
         "xaxis": "x",
         "yaxis": "y"
        },
        {
         "alignmentgroup": "True",
         "bingroup": "x",
         "hovertemplate": "Disease=Myocardial Infarction (Heart...<br>Age=%{x}<br>count=%{y}<extra></extra>",
         "legendgroup": "Myocardial Infarction (Heart...",
         "marker": {
          "color": "#FF97FF",
          "pattern": {
           "shape": ""
          }
         },
         "name": "Myocardial Infarction (Heart...",
         "offsetgroup": "Myocardial Infarction (Heart...",
         "orientation": "v",
         "showlegend": true,
         "type": "histogram",
         "x": [
          30
         ],
         "xaxis": "x",
         "yaxis": "y"
        },
        {
         "alignmentgroup": "True",
         "bingroup": "x",
         "hovertemplate": "Disease=Urinary Tract Infection (UTI)<br>Age=%{x}<br>count=%{y}<extra></extra>",
         "legendgroup": "Urinary Tract Infection (UTI)",
         "marker": {
          "color": "#FECB52",
          "pattern": {
           "shape": ""
          }
         },
         "name": "Urinary Tract Infection (UTI)",
         "offsetgroup": "Urinary Tract Infection (UTI)",
         "orientation": "v",
         "showlegend": true,
         "type": "histogram",
         "x": [
          30,
          35,
          65
         ],
         "xaxis": "x",
         "yaxis": "y"
        },
        {
         "alignmentgroup": "True",
         "bingroup": "x",
         "hovertemplate": "Disease=Osteoporosis<br>Age=%{x}<br>count=%{y}<extra></extra>",
         "legendgroup": "Osteoporosis",
         "marker": {
          "color": "#636efa",
          "pattern": {
           "shape": ""
          }
         },
         "name": "Osteoporosis",
         "offsetgroup": "Osteoporosis",
         "orientation": "v",
         "showlegend": true,
         "type": "histogram",
         "x": [
          31,
          38,
          45,
          55,
          55,
          55,
          55,
          60,
          60,
          60,
          65,
          70
         ],
         "xaxis": "x",
         "yaxis": "y"
        },
        {
         "alignmentgroup": "True",
         "bingroup": "x",
         "hovertemplate": "Disease=Pneumonia<br>Age=%{x}<br>count=%{y}<extra></extra>",
         "legendgroup": "Pneumonia",
         "marker": {
          "color": "#EF553B",
          "pattern": {
           "shape": ""
          }
         },
         "name": "Pneumonia",
         "offsetgroup": "Pneumonia",
         "orientation": "v",
         "showlegend": true,
         "type": "histogram",
         "x": [
          32,
          35,
          38,
          40,
          43,
          45,
          57
         ],
         "xaxis": "x",
         "yaxis": "y"
        },
        {
         "alignmentgroup": "True",
         "bingroup": "x",
         "hovertemplate": "Disease=Atherosclerosis<br>Age=%{x}<br>count=%{y}<extra></extra>",
         "legendgroup": "Atherosclerosis",
         "marker": {
          "color": "#00cc96",
          "pattern": {
           "shape": ""
          }
         },
         "name": "Atherosclerosis",
         "offsetgroup": "Atherosclerosis",
         "orientation": "v",
         "showlegend": true,
         "type": "histogram",
         "x": [
          35
         ],
         "xaxis": "x",
         "yaxis": "y"
        },
        {
         "alignmentgroup": "True",
         "bingroup": "x",
         "hovertemplate": "Disease=Chronic Obstructive Pulmonary...<br>Age=%{x}<br>count=%{y}<extra></extra>",
         "legendgroup": "Chronic Obstructive Pulmonary...",
         "marker": {
          "color": "#ab63fa",
          "pattern": {
           "shape": ""
          }
         },
         "name": "Chronic Obstructive Pulmonary...",
         "offsetgroup": "Chronic Obstructive Pulmonary...",
         "orientation": "v",
         "showlegend": true,
         "type": "histogram",
         "x": [
          35
         ],
         "xaxis": "x",
         "yaxis": "y"
        },
        {
         "alignmentgroup": "True",
         "bingroup": "x",
         "hovertemplate": "Disease=Epilepsy<br>Age=%{x}<br>count=%{y}<extra></extra>",
         "legendgroup": "Epilepsy",
         "marker": {
          "color": "#FFA15A",
          "pattern": {
           "shape": ""
          }
         },
         "name": "Epilepsy",
         "offsetgroup": "Epilepsy",
         "orientation": "v",
         "showlegend": true,
         "type": "histogram",
         "x": [
          35
         ],
         "xaxis": "x",
         "yaxis": "y"
        },
        {
         "alignmentgroup": "True",
         "bingroup": "x",
         "hovertemplate": "Disease=Hypertension<br>Age=%{x}<br>count=%{y}<extra></extra>",
         "legendgroup": "Hypertension",
         "marker": {
          "color": "#19d3f3",
          "pattern": {
           "shape": ""
          }
         },
         "name": "Hypertension",
         "offsetgroup": "Hypertension",
         "orientation": "v",
         "showlegend": true,
         "type": "histogram",
         "x": [
          35,
          45,
          48,
          50,
          52,
          55,
          55,
          60,
          60,
          60
         ],
         "xaxis": "x",
         "yaxis": "y"
        },
        {
         "alignmentgroup": "True",
         "bingroup": "x",
         "hovertemplate": "Disease=Obsessive-Compulsive Disorde...<br>Age=%{x}<br>count=%{y}<extra></extra>",
         "legendgroup": "Obsessive-Compulsive Disorde...",
         "marker": {
          "color": "#FF6692",
          "pattern": {
           "shape": ""
          }
         },
         "name": "Obsessive-Compulsive Disorde...",
         "offsetgroup": "Obsessive-Compulsive Disorde...",
         "orientation": "v",
         "showlegend": true,
         "type": "histogram",
         "x": [
          35
         ],
         "xaxis": "x",
         "yaxis": "y"
        },
        {
         "alignmentgroup": "True",
         "bingroup": "x",
         "hovertemplate": "Disease=Psoriasis<br>Age=%{x}<br>count=%{y}<extra></extra>",
         "legendgroup": "Psoriasis",
         "marker": {
          "color": "#B6E880",
          "pattern": {
           "shape": ""
          }
         },
         "name": "Psoriasis",
         "offsetgroup": "Psoriasis",
         "orientation": "v",
         "showlegend": true,
         "type": "histogram",
         "x": [
          35,
          35,
          40,
          40,
          40
         ],
         "xaxis": "x",
         "yaxis": "y"
        },
        {
         "alignmentgroup": "True",
         "bingroup": "x",
         "hovertemplate": "Disease=Rubella<br>Age=%{x}<br>count=%{y}<extra></extra>",
         "legendgroup": "Rubella",
         "marker": {
          "color": "#FF97FF",
          "pattern": {
           "shape": ""
          }
         },
         "name": "Rubella",
         "offsetgroup": "Rubella",
         "orientation": "v",
         "showlegend": true,
         "type": "histogram",
         "x": [
          35
         ],
         "xaxis": "x",
         "yaxis": "y"
        },
        {
         "alignmentgroup": "True",
         "bingroup": "x",
         "hovertemplate": "Disease=Cirrhosis<br>Age=%{x}<br>count=%{y}<extra></extra>",
         "legendgroup": "Cirrhosis",
         "marker": {
          "color": "#FECB52",
          "pattern": {
           "shape": ""
          }
         },
         "name": "Cirrhosis",
         "offsetgroup": "Cirrhosis",
         "orientation": "v",
         "showlegend": true,
         "type": "histogram",
         "x": [
          35
         ],
         "xaxis": "x",
         "yaxis": "y"
        },
        {
         "alignmentgroup": "True",
         "bingroup": "x",
         "hovertemplate": "Disease=Conjunctivitis (Pink Eye)<br>Age=%{x}<br>count=%{y}<extra></extra>",
         "legendgroup": "Conjunctivitis (Pink Eye)",
         "marker": {
          "color": "#636efa",
          "pattern": {
           "shape": ""
          }
         },
         "name": "Conjunctivitis (Pink Eye)",
         "offsetgroup": "Conjunctivitis (Pink Eye)",
         "orientation": "v",
         "showlegend": true,
         "type": "histogram",
         "x": [
          35
         ],
         "xaxis": "x",
         "yaxis": "y"
        },
        {
         "alignmentgroup": "True",
         "bingroup": "x",
         "hovertemplate": "Disease=Liver Disease<br>Age=%{x}<br>count=%{y}<extra></extra>",
         "legendgroup": "Liver Disease",
         "marker": {
          "color": "#EF553B",
          "pattern": {
           "shape": ""
          }
         },
         "name": "Liver Disease",
         "offsetgroup": "Liver Disease",
         "orientation": "v",
         "showlegend": true,
         "type": "histogram",
         "x": [
          35,
          38,
          42,
          45,
          55
         ],
         "xaxis": "x",
         "yaxis": "y"
        },
        {
         "alignmentgroup": "True",
         "bingroup": "x",
         "hovertemplate": "Disease=Malaria<br>Age=%{x}<br>count=%{y}<extra></extra>",
         "legendgroup": "Malaria",
         "marker": {
          "color": "#00cc96",
          "pattern": {
           "shape": ""
          }
         },
         "name": "Malaria",
         "offsetgroup": "Malaria",
         "orientation": "v",
         "showlegend": true,
         "type": "histogram",
         "x": [
          35
         ],
         "xaxis": "x",
         "yaxis": "y"
        },
        {
         "alignmentgroup": "True",
         "bingroup": "x",
         "hovertemplate": "Disease=Spina Bifida<br>Age=%{x}<br>count=%{y}<extra></extra>",
         "legendgroup": "Spina Bifida",
         "marker": {
          "color": "#ab63fa",
          "pattern": {
           "shape": ""
          }
         },
         "name": "Spina Bifida",
         "offsetgroup": "Spina Bifida",
         "orientation": "v",
         "showlegend": true,
         "type": "histogram",
         "x": [
          35
         ],
         "xaxis": "x",
         "yaxis": "y"
        },
        {
         "alignmentgroup": "True",
         "bingroup": "x",
         "hovertemplate": "Disease=Kidney Disease<br>Age=%{x}<br>count=%{y}<extra></extra>",
         "legendgroup": "Kidney Disease",
         "marker": {
          "color": "#FFA15A",
          "pattern": {
           "shape": ""
          }
         },
         "name": "Kidney Disease",
         "offsetgroup": "Kidney Disease",
         "orientation": "v",
         "showlegend": true,
         "type": "histogram",
         "x": [
          38,
          42,
          45,
          50,
          60
         ],
         "xaxis": "x",
         "yaxis": "y"
        },
        {
         "alignmentgroup": "True",
         "bingroup": "x",
         "hovertemplate": "Disease=Osteoarthritis<br>Age=%{x}<br>count=%{y}<extra></extra>",
         "legendgroup": "Osteoarthritis",
         "marker": {
          "color": "#19d3f3",
          "pattern": {
           "shape": ""
          }
         },
         "name": "Osteoarthritis",
         "offsetgroup": "Osteoarthritis",
         "orientation": "v",
         "showlegend": true,
         "type": "histogram",
         "x": [
          38,
          40,
          42,
          45,
          55,
          60
         ],
         "xaxis": "x",
         "yaxis": "y"
        },
        {
         "alignmentgroup": "True",
         "bingroup": "x",
         "hovertemplate": "Disease=Klinefelter Syndrome<br>Age=%{x}<br>count=%{y}<extra></extra>",
         "legendgroup": "Klinefelter Syndrome",
         "marker": {
          "color": "#FF6692",
          "pattern": {
           "shape": ""
          }
         },
         "name": "Klinefelter Syndrome",
         "offsetgroup": "Klinefelter Syndrome",
         "orientation": "v",
         "showlegend": true,
         "type": "histogram",
         "x": [
          39,
          50
         ],
         "xaxis": "x",
         "yaxis": "y"
        },
        {
         "alignmentgroup": "True",
         "bingroup": "x",
         "hovertemplate": "Disease=Acne<br>Age=%{x}<br>count=%{y}<extra></extra>",
         "legendgroup": "Acne",
         "marker": {
          "color": "#B6E880",
          "pattern": {
           "shape": ""
          }
         },
         "name": "Acne",
         "offsetgroup": "Acne",
         "orientation": "v",
         "showlegend": true,
         "type": "histogram",
         "x": [
          40
         ],
         "xaxis": "x",
         "yaxis": "y"
        },
        {
         "alignmentgroup": "True",
         "bingroup": "x",
         "hovertemplate": "Disease=Brain Tumor<br>Age=%{x}<br>count=%{y}<extra></extra>",
         "legendgroup": "Brain Tumor",
         "marker": {
          "color": "#FF97FF",
          "pattern": {
           "shape": ""
          }
         },
         "name": "Brain Tumor",
         "offsetgroup": "Brain Tumor",
         "orientation": "v",
         "showlegend": true,
         "type": "histogram",
         "x": [
          40
         ],
         "xaxis": "x",
         "yaxis": "y"
        },
        {
         "alignmentgroup": "True",
         "bingroup": "x",
         "hovertemplate": "Disease=Cystic Fibrosis<br>Age=%{x}<br>count=%{y}<extra></extra>",
         "legendgroup": "Cystic Fibrosis",
         "marker": {
          "color": "#FECB52",
          "pattern": {
           "shape": ""
          }
         },
         "name": "Cystic Fibrosis",
         "offsetgroup": "Cystic Fibrosis",
         "orientation": "v",
         "showlegend": true,
         "type": "histogram",
         "x": [
          40
         ],
         "xaxis": "x",
         "yaxis": "y"
        },
        {
         "alignmentgroup": "True",
         "bingroup": "x",
         "hovertemplate": "Disease=Glaucoma<br>Age=%{x}<br>count=%{y}<extra></extra>",
         "legendgroup": "Glaucoma",
         "marker": {
          "color": "#636efa",
          "pattern": {
           "shape": ""
          }
         },
         "name": "Glaucoma",
         "offsetgroup": "Glaucoma",
         "orientation": "v",
         "showlegend": true,
         "type": "histogram",
         "x": [
          40
         ],
         "xaxis": "x",
         "yaxis": "y"
        },
        {
         "alignmentgroup": "True",
         "bingroup": "x",
         "hovertemplate": "Disease=Rabies<br>Age=%{x}<br>count=%{y}<extra></extra>",
         "legendgroup": "Rabies",
         "marker": {
          "color": "#EF553B",
          "pattern": {
           "shape": ""
          }
         },
         "name": "Rabies",
         "offsetgroup": "Rabies",
         "orientation": "v",
         "showlegend": true,
         "type": "histogram",
         "x": [
          40
         ],
         "xaxis": "x",
         "yaxis": "y"
        },
        {
         "alignmentgroup": "True",
         "bingroup": "x",
         "hovertemplate": "Disease=Chickenpox<br>Age=%{x}<br>count=%{y}<extra></extra>",
         "legendgroup": "Chickenpox",
         "marker": {
          "color": "#00cc96",
          "pattern": {
           "shape": ""
          }
         },
         "name": "Chickenpox",
         "offsetgroup": "Chickenpox",
         "orientation": "v",
         "showlegend": true,
         "type": "histogram",
         "x": [
          40
         ],
         "xaxis": "x",
         "yaxis": "y"
        },
        {
         "alignmentgroup": "True",
         "bingroup": "x",
         "hovertemplate": "Disease=Coronary Artery Disease<br>Age=%{x}<br>count=%{y}<extra></extra>",
         "legendgroup": "Coronary Artery Disease",
         "marker": {
          "color": "#ab63fa",
          "pattern": {
           "shape": ""
          }
         },
         "name": "Coronary Artery Disease",
         "offsetgroup": "Coronary Artery Disease",
         "orientation": "v",
         "showlegend": true,
         "type": "histogram",
         "x": [
          40,
          55,
          60
         ],
         "xaxis": "x",
         "yaxis": "y"
        },
        {
         "alignmentgroup": "True",
         "bingroup": "x",
         "hovertemplate": "Disease=Eating Disorders (Anorexia,...<br>Age=%{x}<br>count=%{y}<extra></extra>",
         "legendgroup": "Eating Disorders (Anorexia,...",
         "marker": {
          "color": "#FFA15A",
          "pattern": {
           "shape": ""
          }
         },
         "name": "Eating Disorders (Anorexia,...",
         "offsetgroup": "Eating Disorders (Anorexia,...",
         "orientation": "v",
         "showlegend": true,
         "type": "histogram",
         "x": [
          40
         ],
         "xaxis": "x",
         "yaxis": "y"
        },
        {
         "alignmentgroup": "True",
         "bingroup": "x",
         "hovertemplate": "Disease=Fibromyalgia<br>Age=%{x}<br>count=%{y}<extra></extra>",
         "legendgroup": "Fibromyalgia",
         "marker": {
          "color": "#19d3f3",
          "pattern": {
           "shape": ""
          }
         },
         "name": "Fibromyalgia",
         "offsetgroup": "Fibromyalgia",
         "orientation": "v",
         "showlegend": true,
         "type": "histogram",
         "x": [
          40
         ],
         "xaxis": "x",
         "yaxis": "y"
        },
        {
         "alignmentgroup": "True",
         "bingroup": "x",
         "hovertemplate": "Disease=Hemophilia<br>Age=%{x}<br>count=%{y}<extra></extra>",
         "legendgroup": "Hemophilia",
         "marker": {
          "color": "#FF6692",
          "pattern": {
           "shape": ""
          }
         },
         "name": "Hemophilia",
         "offsetgroup": "Hemophilia",
         "orientation": "v",
         "showlegend": true,
         "type": "histogram",
         "x": [
          40,
          60
         ],
         "xaxis": "x",
         "yaxis": "y"
        },
        {
         "alignmentgroup": "True",
         "bingroup": "x",
         "hovertemplate": "Disease=Hypoglycemia<br>Age=%{x}<br>count=%{y}<extra></extra>",
         "legendgroup": "Hypoglycemia",
         "marker": {
          "color": "#B6E880",
          "pattern": {
           "shape": ""
          }
         },
         "name": "Hypoglycemia",
         "offsetgroup": "Hypoglycemia",
         "orientation": "v",
         "showlegend": true,
         "type": "histogram",
         "x": [
          40
         ],
         "xaxis": "x",
         "yaxis": "y"
        },
        {
         "alignmentgroup": "True",
         "bingroup": "x",
         "hovertemplate": "Disease=Lymphoma<br>Age=%{x}<br>count=%{y}<extra></extra>",
         "legendgroup": "Lymphoma",
         "marker": {
          "color": "#FF97FF",
          "pattern": {
           "shape": ""
          }
         },
         "name": "Lymphoma",
         "offsetgroup": "Lymphoma",
         "orientation": "v",
         "showlegend": true,
         "type": "histogram",
         "x": [
          40
         ],
         "xaxis": "x",
         "yaxis": "y"
        },
        {
         "alignmentgroup": "True",
         "bingroup": "x",
         "hovertemplate": "Disease=Tuberculosis<br>Age=%{x}<br>count=%{y}<extra></extra>",
         "legendgroup": "Tuberculosis",
         "marker": {
          "color": "#FECB52",
          "pattern": {
           "shape": ""
          }
         },
         "name": "Tuberculosis",
         "offsetgroup": "Tuberculosis",
         "orientation": "v",
         "showlegend": true,
         "type": "histogram",
         "x": [
          40,
          60
         ],
         "xaxis": "x",
         "yaxis": "y"
        },
        {
         "alignmentgroup": "True",
         "bingroup": "x",
         "hovertemplate": "Disease=Lung Cancer<br>Age=%{x}<br>count=%{y}<extra></extra>",
         "legendgroup": "Lung Cancer",
         "marker": {
          "color": "#636efa",
          "pattern": {
           "shape": ""
          }
         },
         "name": "Lung Cancer",
         "offsetgroup": "Lung Cancer",
         "orientation": "v",
         "showlegend": true,
         "type": "histogram",
         "x": [
          42,
          65,
          65
         ],
         "xaxis": "x",
         "yaxis": "y"
        },
        {
         "alignmentgroup": "True",
         "bingroup": "x",
         "hovertemplate": "Disease=Hypothyroidism<br>Age=%{x}<br>count=%{y}<extra></extra>",
         "legendgroup": "Hypothyroidism",
         "marker": {
          "color": "#EF553B",
          "pattern": {
           "shape": ""
          }
         },
         "name": "Hypothyroidism",
         "offsetgroup": "Hypothyroidism",
         "orientation": "v",
         "showlegend": true,
         "type": "histogram",
         "x": [
          42,
          45,
          48,
          50,
          55
         ],
         "xaxis": "x",
         "yaxis": "y"
        },
        {
         "alignmentgroup": "True",
         "bingroup": "x",
         "hovertemplate": "Disease=Autism Spectrum Disorder (ASD)<br>Age=%{x}<br>count=%{y}<extra></extra>",
         "legendgroup": "Autism Spectrum Disorder (ASD)",
         "marker": {
          "color": "#00cc96",
          "pattern": {
           "shape": ""
          }
         },
         "name": "Autism Spectrum Disorder (ASD)",
         "offsetgroup": "Autism Spectrum Disorder (ASD)",
         "orientation": "v",
         "showlegend": true,
         "type": "histogram",
         "x": [
          45
         ],
         "xaxis": "x",
         "yaxis": "y"
        },
        {
         "alignmentgroup": "True",
         "bingroup": "x",
         "hovertemplate": "Disease=Crohn's Disease<br>Age=%{x}<br>count=%{y}<extra></extra>",
         "legendgroup": "Crohn's Disease",
         "marker": {
          "color": "#ab63fa",
          "pattern": {
           "shape": ""
          }
         },
         "name": "Crohn's Disease",
         "offsetgroup": "Crohn's Disease",
         "orientation": "v",
         "showlegend": true,
         "type": "histogram",
         "x": [
          45,
          45,
          45,
          50,
          50
         ],
         "xaxis": "x",
         "yaxis": "y"
        },
        {
         "alignmentgroup": "True",
         "bingroup": "x",
         "hovertemplate": "Disease=Hyperglycemia<br>Age=%{x}<br>count=%{y}<extra></extra>",
         "legendgroup": "Hyperglycemia",
         "marker": {
          "color": "#FFA15A",
          "pattern": {
           "shape": ""
          }
         },
         "name": "Hyperglycemia",
         "offsetgroup": "Hyperglycemia",
         "orientation": "v",
         "showlegend": true,
         "type": "histogram",
         "x": [
          45
         ],
         "xaxis": "x",
         "yaxis": "y"
        },
        {
         "alignmentgroup": "True",
         "bingroup": "x",
         "hovertemplate": "Disease=Melanoma<br>Age=%{x}<br>count=%{y}<extra></extra>",
         "legendgroup": "Melanoma",
         "marker": {
          "color": "#19d3f3",
          "pattern": {
           "shape": ""
          }
         },
         "name": "Melanoma",
         "offsetgroup": "Melanoma",
         "orientation": "v",
         "showlegend": true,
         "type": "histogram",
         "x": [
          45
         ],
         "xaxis": "x",
         "yaxis": "y"
        },
        {
         "alignmentgroup": "True",
         "bingroup": "x",
         "hovertemplate": "Disease=Ovarian Cancer<br>Age=%{x}<br>count=%{y}<extra></extra>",
         "legendgroup": "Ovarian Cancer",
         "marker": {
          "color": "#FF6692",
          "pattern": {
           "shape": ""
          }
         },
         "name": "Ovarian Cancer",
         "offsetgroup": "Ovarian Cancer",
         "orientation": "v",
         "showlegend": true,
         "type": "histogram",
         "x": [
          45
         ],
         "xaxis": "x",
         "yaxis": "y"
        },
        {
         "alignmentgroup": "True",
         "bingroup": "x",
         "hovertemplate": "Disease=Turner Syndrome<br>Age=%{x}<br>count=%{y}<extra></extra>",
         "legendgroup": "Turner Syndrome",
         "marker": {
          "color": "#B6E880",
          "pattern": {
           "shape": ""
          }
         },
         "name": "Turner Syndrome",
         "offsetgroup": "Turner Syndrome",
         "orientation": "v",
         "showlegend": true,
         "type": "histogram",
         "x": [
          45
         ],
         "xaxis": "x",
         "yaxis": "y"
        },
        {
         "alignmentgroup": "True",
         "bingroup": "x",
         "hovertemplate": "Disease=Zika Virus<br>Age=%{x}<br>count=%{y}<extra></extra>",
         "legendgroup": "Zika Virus",
         "marker": {
          "color": "#FF97FF",
          "pattern": {
           "shape": ""
          }
         },
         "name": "Zika Virus",
         "offsetgroup": "Zika Virus",
         "orientation": "v",
         "showlegend": true,
         "type": "histogram",
         "x": [
          45
         ],
         "xaxis": "x",
         "yaxis": "y"
        },
        {
         "alignmentgroup": "True",
         "bingroup": "x",
         "hovertemplate": "Disease=Cataracts<br>Age=%{x}<br>count=%{y}<extra></extra>",
         "legendgroup": "Cataracts",
         "marker": {
          "color": "#FECB52",
          "pattern": {
           "shape": ""
          }
         },
         "name": "Cataracts",
         "offsetgroup": "Cataracts",
         "orientation": "v",
         "showlegend": true,
         "type": "histogram",
         "x": [
          45
         ],
         "xaxis": "x",
         "yaxis": "y"
        },
        {
         "alignmentgroup": "True",
         "bingroup": "x",
         "hovertemplate": "Disease=Pneumocystis Pneumonia (PCP)<br>Age=%{x}<br>count=%{y}<extra></extra>",
         "legendgroup": "Pneumocystis Pneumonia (PCP)",
         "marker": {
          "color": "#636efa",
          "pattern": {
           "shape": ""
          }
         },
         "name": "Pneumocystis Pneumonia (PCP)",
         "offsetgroup": "Pneumocystis Pneumonia (PCP)",
         "orientation": "v",
         "showlegend": true,
         "type": "histogram",
         "x": [
          45
         ],
         "xaxis": "x",
         "yaxis": "y"
        },
        {
         "alignmentgroup": "True",
         "bingroup": "x",
         "hovertemplate": "Disease=Scoliosis<br>Age=%{x}<br>count=%{y}<extra></extra>",
         "legendgroup": "Scoliosis",
         "marker": {
          "color": "#EF553B",
          "pattern": {
           "shape": ""
          }
         },
         "name": "Scoliosis",
         "offsetgroup": "Scoliosis",
         "orientation": "v",
         "showlegend": true,
         "type": "histogram",
         "x": [
          45
         ],
         "xaxis": "x",
         "yaxis": "y"
        },
        {
         "alignmentgroup": "True",
         "bingroup": "x",
         "hovertemplate": "Disease=Sickle Cell Anemia<br>Age=%{x}<br>count=%{y}<extra></extra>",
         "legendgroup": "Sickle Cell Anemia",
         "marker": {
          "color": "#00cc96",
          "pattern": {
           "shape": ""
          }
         },
         "name": "Sickle Cell Anemia",
         "offsetgroup": "Sickle Cell Anemia",
         "orientation": "v",
         "showlegend": true,
         "type": "histogram",
         "x": [
          45
         ],
         "xaxis": "x",
         "yaxis": "y"
        },
        {
         "alignmentgroup": "True",
         "bingroup": "x",
         "hovertemplate": "Disease=Tetanus<br>Age=%{x}<br>count=%{y}<extra></extra>",
         "legendgroup": "Tetanus",
         "marker": {
          "color": "#ab63fa",
          "pattern": {
           "shape": ""
          }
         },
         "name": "Tetanus",
         "offsetgroup": "Tetanus",
         "orientation": "v",
         "showlegend": true,
         "type": "histogram",
         "x": [
          45
         ],
         "xaxis": "x",
         "yaxis": "y"
        },
        {
         "alignmentgroup": "True",
         "bingroup": "x",
         "hovertemplate": "Disease=Anemia<br>Age=%{x}<br>count=%{y}<extra></extra>",
         "legendgroup": "Anemia",
         "marker": {
          "color": "#FFA15A",
          "pattern": {
           "shape": ""
          }
         },
         "name": "Anemia",
         "offsetgroup": "Anemia",
         "orientation": "v",
         "showlegend": true,
         "type": "histogram",
         "x": [
          50
         ],
         "xaxis": "x",
         "yaxis": "y"
        },
        {
         "alignmentgroup": "True",
         "bingroup": "x",
         "hovertemplate": "Disease=Cholera<br>Age=%{x}<br>count=%{y}<extra></extra>",
         "legendgroup": "Cholera",
         "marker": {
          "color": "#19d3f3",
          "pattern": {
           "shape": ""
          }
         },
         "name": "Cholera",
         "offsetgroup": "Cholera",
         "orientation": "v",
         "showlegend": true,
         "type": "histogram",
         "x": [
          50
         ],
         "xaxis": "x",
         "yaxis": "y"
        },
        {
         "alignmentgroup": "True",
         "bingroup": "x",
         "hovertemplate": "Disease=Endometriosis<br>Age=%{x}<br>count=%{y}<extra></extra>",
         "legendgroup": "Endometriosis",
         "marker": {
          "color": "#FF6692",
          "pattern": {
           "shape": ""
          }
         },
         "name": "Endometriosis",
         "offsetgroup": "Endometriosis",
         "orientation": "v",
         "showlegend": true,
         "type": "histogram",
         "x": [
          50
         ],
         "xaxis": "x",
         "yaxis": "y"
        },
        {
         "alignmentgroup": "True",
         "bingroup": "x",
         "hovertemplate": "Disease=Sepsis<br>Age=%{x}<br>count=%{y}<extra></extra>",
         "legendgroup": "Sepsis",
         "marker": {
          "color": "#B6E880",
          "pattern": {
           "shape": ""
          }
         },
         "name": "Sepsis",
         "offsetgroup": "Sepsis",
         "orientation": "v",
         "showlegend": true,
         "type": "histogram",
         "x": [
          50
         ],
         "xaxis": "x",
         "yaxis": "y"
        },
        {
         "alignmentgroup": "True",
         "bingroup": "x",
         "hovertemplate": "Disease=Sleep Apnea<br>Age=%{x}<br>count=%{y}<extra></extra>",
         "legendgroup": "Sleep Apnea",
         "marker": {
          "color": "#FF97FF",
          "pattern": {
           "shape": ""
          }
         },
         "name": "Sleep Apnea",
         "offsetgroup": "Sleep Apnea",
         "orientation": "v",
         "showlegend": true,
         "type": "histogram",
         "x": [
          50
         ],
         "xaxis": "x",
         "yaxis": "y"
        },
        {
         "alignmentgroup": "True",
         "bingroup": "x",
         "hovertemplate": "Disease=Down Syndrome<br>Age=%{x}<br>count=%{y}<extra></extra>",
         "legendgroup": "Down Syndrome",
         "marker": {
          "color": "#FECB52",
          "pattern": {
           "shape": ""
          }
         },
         "name": "Down Syndrome",
         "offsetgroup": "Down Syndrome",
         "orientation": "v",
         "showlegend": true,
         "type": "histogram",
         "x": [
          50
         ],
         "xaxis": "x",
         "yaxis": "y"
        },
        {
         "alignmentgroup": "True",
         "bingroup": "x",
         "hovertemplate": "Disease=Ebola Virus<br>Age=%{x}<br>count=%{y}<extra></extra>",
         "legendgroup": "Ebola Virus",
         "marker": {
          "color": "#636efa",
          "pattern": {
           "shape": ""
          }
         },
         "name": "Ebola Virus",
         "offsetgroup": "Ebola Virus",
         "orientation": "v",
         "showlegend": true,
         "type": "histogram",
         "x": [
          50
         ],
         "xaxis": "x",
         "yaxis": "y"
        },
        {
         "alignmentgroup": "True",
         "bingroup": "x",
         "hovertemplate": "Disease=Lyme Disease<br>Age=%{x}<br>count=%{y}<extra></extra>",
         "legendgroup": "Lyme Disease",
         "marker": {
          "color": "#EF553B",
          "pattern": {
           "shape": ""
          }
         },
         "name": "Lyme Disease",
         "offsetgroup": "Lyme Disease",
         "orientation": "v",
         "showlegend": true,
         "type": "histogram",
         "x": [
          50
         ],
         "xaxis": "x",
         "yaxis": "y"
        },
        {
         "alignmentgroup": "True",
         "bingroup": "x",
         "hovertemplate": "Disease=Pancreatic Cancer<br>Age=%{x}<br>count=%{y}<extra></extra>",
         "legendgroup": "Pancreatic Cancer",
         "marker": {
          "color": "#00cc96",
          "pattern": {
           "shape": ""
          }
         },
         "name": "Pancreatic Cancer",
         "offsetgroup": "Pancreatic Cancer",
         "orientation": "v",
         "showlegend": true,
         "type": "histogram",
         "x": [
          50
         ],
         "xaxis": "x",
         "yaxis": "y"
        },
        {
         "alignmentgroup": "True",
         "bingroup": "x",
         "hovertemplate": "Disease=Pneumothorax<br>Age=%{x}<br>count=%{y}<extra></extra>",
         "legendgroup": "Pneumothorax",
         "marker": {
          "color": "#ab63fa",
          "pattern": {
           "shape": ""
          }
         },
         "name": "Pneumothorax",
         "offsetgroup": "Pneumothorax",
         "orientation": "v",
         "showlegend": true,
         "type": "histogram",
         "x": [
          50
         ],
         "xaxis": "x",
         "yaxis": "y"
        },
        {
         "alignmentgroup": "True",
         "bingroup": "x",
         "hovertemplate": "Disease=Appendicitis<br>Age=%{x}<br>count=%{y}<extra></extra>",
         "legendgroup": "Appendicitis",
         "marker": {
          "color": "#FFA15A",
          "pattern": {
           "shape": ""
          }
         },
         "name": "Appendicitis",
         "offsetgroup": "Appendicitis",
         "orientation": "v",
         "showlegend": true,
         "type": "histogram",
         "x": [
          55
         ],
         "xaxis": "x",
         "yaxis": "y"
        },
        {
         "alignmentgroup": "True",
         "bingroup": "x",
         "hovertemplate": "Disease=Esophageal Cancer<br>Age=%{x}<br>count=%{y}<extra></extra>",
         "legendgroup": "Esophageal Cancer",
         "marker": {
          "color": "#19d3f3",
          "pattern": {
           "shape": ""
          }
         },
         "name": "Esophageal Cancer",
         "offsetgroup": "Esophageal Cancer",
         "orientation": "v",
         "showlegend": true,
         "type": "histogram",
         "x": [
          55
         ],
         "xaxis": "x",
         "yaxis": "y"
        },
        {
         "alignmentgroup": "True",
         "bingroup": "x",
         "hovertemplate": "Disease=HIV/AIDS<br>Age=%{x}<br>count=%{y}<extra></extra>",
         "legendgroup": "HIV/AIDS",
         "marker": {
          "color": "#FF6692",
          "pattern": {
           "shape": ""
          }
         },
         "name": "HIV/AIDS",
         "offsetgroup": "HIV/AIDS",
         "orientation": "v",
         "showlegend": true,
         "type": "histogram",
         "x": [
          55
         ],
         "xaxis": "x",
         "yaxis": "y"
        },
        {
         "alignmentgroup": "True",
         "bingroup": "x",
         "hovertemplate": "Disease=Marfan Syndrome<br>Age=%{x}<br>count=%{y}<extra></extra>",
         "legendgroup": "Marfan Syndrome",
         "marker": {
          "color": "#B6E880",
          "pattern": {
           "shape": ""
          }
         },
         "name": "Marfan Syndrome",
         "offsetgroup": "Marfan Syndrome",
         "orientation": "v",
         "showlegend": true,
         "type": "histogram",
         "x": [
          55
         ],
         "xaxis": "x",
         "yaxis": "y"
        },
        {
         "alignmentgroup": "True",
         "bingroup": "x",
         "hovertemplate": "Disease=Parkinson's Disease<br>Age=%{x}<br>count=%{y}<extra></extra>",
         "legendgroup": "Parkinson's Disease",
         "marker": {
          "color": "#FF97FF",
          "pattern": {
           "shape": ""
          }
         },
         "name": "Parkinson's Disease",
         "offsetgroup": "Parkinson's Disease",
         "orientation": "v",
         "showlegend": true,
         "type": "histogram",
         "x": [
          55,
          60,
          70
         ],
         "xaxis": "x",
         "yaxis": "y"
        },
        {
         "alignmentgroup": "True",
         "bingroup": "x",
         "hovertemplate": "Disease=Hemorrhoids<br>Age=%{x}<br>count=%{y}<extra></extra>",
         "legendgroup": "Hemorrhoids",
         "marker": {
          "color": "#FECB52",
          "pattern": {
           "shape": ""
          }
         },
         "name": "Hemorrhoids",
         "offsetgroup": "Hemorrhoids",
         "orientation": "v",
         "showlegend": true,
         "type": "histogram",
         "x": [
          55
         ],
         "xaxis": "x",
         "yaxis": "y"
        },
        {
         "alignmentgroup": "True",
         "bingroup": "x",
         "hovertemplate": "Disease=Polycystic Ovary Syndrome (PCOS)<br>Age=%{x}<br>count=%{y}<extra></extra>",
         "legendgroup": "Polycystic Ovary Syndrome (PCOS)",
         "marker": {
          "color": "#636efa",
          "pattern": {
           "shape": ""
          }
         },
         "name": "Polycystic Ovary Syndrome (PCOS)",
         "offsetgroup": "Polycystic Ovary Syndrome (PCOS)",
         "orientation": "v",
         "showlegend": true,
         "type": "histogram",
         "x": [
          55
         ],
         "xaxis": "x",
         "yaxis": "y"
        },
        {
         "alignmentgroup": "True",
         "bingroup": "x",
         "hovertemplate": "Disease=Systemic Lupus Erythematosus...<br>Age=%{x}<br>count=%{y}<extra></extra>",
         "legendgroup": "Systemic Lupus Erythematosus...",
         "marker": {
          "color": "#EF553B",
          "pattern": {
           "shape": ""
          }
         },
         "name": "Systemic Lupus Erythematosus...",
         "offsetgroup": "Systemic Lupus Erythematosus...",
         "orientation": "v",
         "showlegend": true,
         "type": "histogram",
         "x": [
          55
         ],
         "xaxis": "x",
         "yaxis": "y"
        },
        {
         "alignmentgroup": "True",
         "bingroup": "x",
         "hovertemplate": "Disease=Typhoid Fever<br>Age=%{x}<br>count=%{y}<extra></extra>",
         "legendgroup": "Typhoid Fever",
         "marker": {
          "color": "#00cc96",
          "pattern": {
           "shape": ""
          }
         },
         "name": "Typhoid Fever",
         "offsetgroup": "Typhoid Fever",
         "orientation": "v",
         "showlegend": true,
         "type": "histogram",
         "x": [
          55
         ],
         "xaxis": "x",
         "yaxis": "y"
        },
        {
         "alignmentgroup": "True",
         "bingroup": "x",
         "hovertemplate": "Disease=Breast Cancer<br>Age=%{x}<br>count=%{y}<extra></extra>",
         "legendgroup": "Breast Cancer",
         "marker": {
          "color": "#ab63fa",
          "pattern": {
           "shape": ""
          }
         },
         "name": "Breast Cancer",
         "offsetgroup": "Breast Cancer",
         "orientation": "v",
         "showlegend": true,
         "type": "histogram",
         "x": [
          60
         ],
         "xaxis": "x",
         "yaxis": "y"
        },
        {
         "alignmentgroup": "True",
         "bingroup": "x",
         "hovertemplate": "Disease=Measles<br>Age=%{x}<br>count=%{y}<extra></extra>",
         "legendgroup": "Measles",
         "marker": {
          "color": "#FFA15A",
          "pattern": {
           "shape": ""
          }
         },
         "name": "Measles",
         "offsetgroup": "Measles",
         "orientation": "v",
         "showlegend": true,
         "type": "histogram",
         "x": [
          60
         ],
         "xaxis": "x",
         "yaxis": "y"
        },
        {
         "alignmentgroup": "True",
         "bingroup": "x",
         "hovertemplate": "Disease=Osteomyelitis<br>Age=%{x}<br>count=%{y}<extra></extra>",
         "legendgroup": "Osteomyelitis",
         "marker": {
          "color": "#19d3f3",
          "pattern": {
           "shape": ""
          }
         },
         "name": "Osteomyelitis",
         "offsetgroup": "Osteomyelitis",
         "orientation": "v",
         "showlegend": true,
         "type": "histogram",
         "x": [
          60
         ],
         "xaxis": "x",
         "yaxis": "y"
        },
        {
         "alignmentgroup": "True",
         "bingroup": "x",
         "hovertemplate": "Disease=Polio<br>Age=%{x}<br>count=%{y}<extra></extra>",
         "legendgroup": "Polio",
         "marker": {
          "color": "#FF6692",
          "pattern": {
           "shape": ""
          }
         },
         "name": "Polio",
         "offsetgroup": "Polio",
         "orientation": "v",
         "showlegend": true,
         "type": "histogram",
         "x": [
          60
         ],
         "xaxis": "x",
         "yaxis": "y"
        },
        {
         "alignmentgroup": "True",
         "bingroup": "x",
         "hovertemplate": "Disease=Chronic Kidney Disease<br>Age=%{x}<br>count=%{y}<extra></extra>",
         "legendgroup": "Chronic Kidney Disease",
         "marker": {
          "color": "#B6E880",
          "pattern": {
           "shape": ""
          }
         },
         "name": "Chronic Kidney Disease",
         "offsetgroup": "Chronic Kidney Disease",
         "orientation": "v",
         "showlegend": true,
         "type": "histogram",
         "x": [
          60
         ],
         "xaxis": "x",
         "yaxis": "y"
        },
        {
         "alignmentgroup": "True",
         "bingroup": "x",
         "hovertemplate": "Disease=Hepatitis B<br>Age=%{x}<br>count=%{y}<extra></extra>",
         "legendgroup": "Hepatitis B",
         "marker": {
          "color": "#FF97FF",
          "pattern": {
           "shape": ""
          }
         },
         "name": "Hepatitis B",
         "offsetgroup": "Hepatitis B",
         "orientation": "v",
         "showlegend": true,
         "type": "histogram",
         "x": [
          60
         ],
         "xaxis": "x",
         "yaxis": "y"
        },
        {
         "alignmentgroup": "True",
         "bingroup": "x",
         "hovertemplate": "Disease=Prader-Willi Syndrome<br>Age=%{x}<br>count=%{y}<extra></extra>",
         "legendgroup": "Prader-Willi Syndrome",
         "marker": {
          "color": "#FECB52",
          "pattern": {
           "shape": ""
          }
         },
         "name": "Prader-Willi Syndrome",
         "offsetgroup": "Prader-Willi Syndrome",
         "orientation": "v",
         "showlegend": true,
         "type": "histogram",
         "x": [
          60
         ],
         "xaxis": "x",
         "yaxis": "y"
        },
        {
         "alignmentgroup": "True",
         "bingroup": "x",
         "hovertemplate": "Disease=Thyroid Cancer<br>Age=%{x}<br>count=%{y}<extra></extra>",
         "legendgroup": "Thyroid Cancer",
         "marker": {
          "color": "#636efa",
          "pattern": {
           "shape": ""
          }
         },
         "name": "Thyroid Cancer",
         "offsetgroup": "Thyroid Cancer",
         "orientation": "v",
         "showlegend": true,
         "type": "histogram",
         "x": [
          60
         ],
         "xaxis": "x",
         "yaxis": "y"
        },
        {
         "alignmentgroup": "True",
         "bingroup": "x",
         "hovertemplate": "Disease=Bladder Cancer<br>Age=%{x}<br>count=%{y}<extra></extra>",
         "legendgroup": "Bladder Cancer",
         "marker": {
          "color": "#EF553B",
          "pattern": {
           "shape": ""
          }
         },
         "name": "Bladder Cancer",
         "offsetgroup": "Bladder Cancer",
         "orientation": "v",
         "showlegend": true,
         "type": "histogram",
         "x": [
          65
         ],
         "xaxis": "x",
         "yaxis": "y"
        },
        {
         "alignmentgroup": "True",
         "bingroup": "x",
         "hovertemplate": "Disease=Otitis Media (Ear Infection)<br>Age=%{x}<br>count=%{y}<extra></extra>",
         "legendgroup": "Otitis Media (Ear Infection)",
         "marker": {
          "color": "#00cc96",
          "pattern": {
           "shape": ""
          }
         },
         "name": "Otitis Media (Ear Infection)",
         "offsetgroup": "Otitis Media (Ear Infection)",
         "orientation": "v",
         "showlegend": true,
         "type": "histogram",
         "x": [
          65
         ],
         "xaxis": "x",
         "yaxis": "y"
        },
        {
         "alignmentgroup": "True",
         "bingroup": "x",
         "hovertemplate": "Disease=Tourette Syndrome<br>Age=%{x}<br>count=%{y}<extra></extra>",
         "legendgroup": "Tourette Syndrome",
         "marker": {
          "color": "#ab63fa",
          "pattern": {
           "shape": ""
          }
         },
         "name": "Tourette Syndrome",
         "offsetgroup": "Tourette Syndrome",
         "orientation": "v",
         "showlegend": true,
         "type": "histogram",
         "x": [
          65
         ],
         "xaxis": "x",
         "yaxis": "y"
        },
        {
         "alignmentgroup": "True",
         "bingroup": "x",
         "hovertemplate": "Disease=Alzheimer's Disease<br>Age=%{x}<br>count=%{y}<extra></extra>",
         "legendgroup": "Alzheimer's Disease",
         "marker": {
          "color": "#FFA15A",
          "pattern": {
           "shape": ""
          }
         },
         "name": "Alzheimer's Disease",
         "offsetgroup": "Alzheimer's Disease",
         "orientation": "v",
         "showlegend": true,
         "type": "histogram",
         "x": [
          65,
          65,
          70
         ],
         "xaxis": "x",
         "yaxis": "y"
        },
        {
         "alignmentgroup": "True",
         "bingroup": "x",
         "hovertemplate": "Disease=Chronic Obstructive Pulmonary Disease (COPD)<br>Age=%{x}<br>count=%{y}<extra></extra>",
         "legendgroup": "Chronic Obstructive Pulmonary Disease (COPD)",
         "marker": {
          "color": "#19d3f3",
          "pattern": {
           "shape": ""
          }
         },
         "name": "Chronic Obstructive Pulmonary Disease (COPD)",
         "offsetgroup": "Chronic Obstructive Pulmonary Disease (COPD)",
         "orientation": "v",
         "showlegend": true,
         "type": "histogram",
         "x": [
          65,
          70
         ],
         "xaxis": "x",
         "yaxis": "y"
        },
        {
         "alignmentgroup": "True",
         "bingroup": "x",
         "hovertemplate": "Disease=Dementia<br>Age=%{x}<br>count=%{y}<extra></extra>",
         "legendgroup": "Dementia",
         "marker": {
          "color": "#FF6692",
          "pattern": {
           "shape": ""
          }
         },
         "name": "Dementia",
         "offsetgroup": "Dementia",
         "orientation": "v",
         "showlegend": true,
         "type": "histogram",
         "x": [
          65
         ],
         "xaxis": "x",
         "yaxis": "y"
        },
        {
         "alignmentgroup": "True",
         "bingroup": "x",
         "hovertemplate": "Disease=Diverticulitis<br>Age=%{x}<br>count=%{y}<extra></extra>",
         "legendgroup": "Diverticulitis",
         "marker": {
          "color": "#B6E880",
          "pattern": {
           "shape": ""
          }
         },
         "name": "Diverticulitis",
         "offsetgroup": "Diverticulitis",
         "orientation": "v",
         "showlegend": true,
         "type": "histogram",
         "x": [
          65
         ],
         "xaxis": "x",
         "yaxis": "y"
        },
        {
         "alignmentgroup": "True",
         "bingroup": "x",
         "hovertemplate": "Disease=Mumps<br>Age=%{x}<br>count=%{y}<extra></extra>",
         "legendgroup": "Mumps",
         "marker": {
          "color": "#FF97FF",
          "pattern": {
           "shape": ""
          }
         },
         "name": "Mumps",
         "offsetgroup": "Mumps",
         "orientation": "v",
         "showlegend": true,
         "type": "histogram",
         "x": [
          65
         ],
         "xaxis": "x",
         "yaxis": "y"
        },
        {
         "alignmentgroup": "True",
         "bingroup": "x",
         "hovertemplate": "Disease=Cholecystitis<br>Age=%{x}<br>count=%{y}<extra></extra>",
         "legendgroup": "Cholecystitis",
         "marker": {
          "color": "#FECB52",
          "pattern": {
           "shape": ""
          }
         },
         "name": "Cholecystitis",
         "offsetgroup": "Cholecystitis",
         "orientation": "v",
         "showlegend": true,
         "type": "histogram",
         "x": [
          70
         ],
         "xaxis": "x",
         "yaxis": "y"
        },
        {
         "alignmentgroup": "True",
         "bingroup": "x",
         "hovertemplate": "Disease=Prostate Cancer<br>Age=%{x}<br>count=%{y}<extra></extra>",
         "legendgroup": "Prostate Cancer",
         "marker": {
          "color": "#636efa",
          "pattern": {
           "shape": ""
          }
         },
         "name": "Prostate Cancer",
         "offsetgroup": "Prostate Cancer",
         "orientation": "v",
         "showlegend": true,
         "type": "histogram",
         "x": [
          70
         ],
         "xaxis": "x",
         "yaxis": "y"
        },
        {
         "alignmentgroup": "True",
         "bingroup": "x",
         "hovertemplate": "Disease=Schizophrenia<br>Age=%{x}<br>count=%{y}<extra></extra>",
         "legendgroup": "Schizophrenia",
         "marker": {
          "color": "#EF553B",
          "pattern": {
           "shape": ""
          }
         },
         "name": "Schizophrenia",
         "offsetgroup": "Schizophrenia",
         "orientation": "v",
         "showlegend": true,
         "type": "histogram",
         "x": [
          70
         ],
         "xaxis": "x",
         "yaxis": "y"
        },
        {
         "alignmentgroup": "True",
         "bingroup": "x",
         "hovertemplate": "Disease=Gout<br>Age=%{x}<br>count=%{y}<extra></extra>",
         "legendgroup": "Gout",
         "marker": {
          "color": "#00cc96",
          "pattern": {
           "shape": ""
          }
         },
         "name": "Gout",
         "offsetgroup": "Gout",
         "orientation": "v",
         "showlegend": true,
         "type": "histogram",
         "x": [
          70
         ],
         "xaxis": "x",
         "yaxis": "y"
        },
        {
         "alignmentgroup": "True",
         "bingroup": "x",
         "hovertemplate": "Disease=Testicular Cancer<br>Age=%{x}<br>count=%{y}<extra></extra>",
         "legendgroup": "Testicular Cancer",
         "marker": {
          "color": "#ab63fa",
          "pattern": {
           "shape": ""
          }
         },
         "name": "Testicular Cancer",
         "offsetgroup": "Testicular Cancer",
         "orientation": "v",
         "showlegend": true,
         "type": "histogram",
         "x": [
          70
         ],
         "xaxis": "x",
         "yaxis": "y"
        },
        {
         "alignmentgroup": "True",
         "bingroup": "x",
         "hovertemplate": "Disease=Tonsillitis<br>Age=%{x}<br>count=%{y}<extra></extra>",
         "legendgroup": "Tonsillitis",
         "marker": {
          "color": "#FFA15A",
          "pattern": {
           "shape": ""
          }
         },
         "name": "Tonsillitis",
         "offsetgroup": "Tonsillitis",
         "orientation": "v",
         "showlegend": true,
         "type": "histogram",
         "x": [
          70
         ],
         "xaxis": "x",
         "yaxis": "y"
        },
        {
         "alignmentgroup": "True",
         "bingroup": "x",
         "hovertemplate": "Disease=Williams Syndrome<br>Age=%{x}<br>count=%{y}<extra></extra>",
         "legendgroup": "Williams Syndrome",
         "marker": {
          "color": "#19d3f3",
          "pattern": {
           "shape": ""
          }
         },
         "name": "Williams Syndrome",
         "offsetgroup": "Williams Syndrome",
         "orientation": "v",
         "showlegend": true,
         "type": "histogram",
         "x": [
          70
         ],
         "xaxis": "x",
         "yaxis": "y"
        }
       ],
       "layout": {
        "bargap": 0.2,
        "barmode": "relative",
        "legend": {
         "title": {
          "text": "Disease"
         },
         "tracegroupgap": 0
        },
        "template": {
         "data": {
          "bar": [
           {
            "error_x": {
             "color": "#2a3f5f"
            },
            "error_y": {
             "color": "#2a3f5f"
            },
            "marker": {
             "line": {
              "color": "#E5ECF6",
              "width": 0.5
             },
             "pattern": {
              "fillmode": "overlay",
              "size": 10,
              "solidity": 0.2
             }
            },
            "type": "bar"
           }
          ],
          "barpolar": [
           {
            "marker": {
             "line": {
              "color": "#E5ECF6",
              "width": 0.5
             },
             "pattern": {
              "fillmode": "overlay",
              "size": 10,
              "solidity": 0.2
             }
            },
            "type": "barpolar"
           }
          ],
          "carpet": [
           {
            "aaxis": {
             "endlinecolor": "#2a3f5f",
             "gridcolor": "white",
             "linecolor": "white",
             "minorgridcolor": "white",
             "startlinecolor": "#2a3f5f"
            },
            "baxis": {
             "endlinecolor": "#2a3f5f",
             "gridcolor": "white",
             "linecolor": "white",
             "minorgridcolor": "white",
             "startlinecolor": "#2a3f5f"
            },
            "type": "carpet"
           }
          ],
          "choropleth": [
           {
            "colorbar": {
             "outlinewidth": 0,
             "ticks": ""
            },
            "type": "choropleth"
           }
          ],
          "contour": [
           {
            "colorbar": {
             "outlinewidth": 0,
             "ticks": ""
            },
            "colorscale": [
             [
              0,
              "#0d0887"
             ],
             [
              0.1111111111111111,
              "#46039f"
             ],
             [
              0.2222222222222222,
              "#7201a8"
             ],
             [
              0.3333333333333333,
              "#9c179e"
             ],
             [
              0.4444444444444444,
              "#bd3786"
             ],
             [
              0.5555555555555556,
              "#d8576b"
             ],
             [
              0.6666666666666666,
              "#ed7953"
             ],
             [
              0.7777777777777778,
              "#fb9f3a"
             ],
             [
              0.8888888888888888,
              "#fdca26"
             ],
             [
              1,
              "#f0f921"
             ]
            ],
            "type": "contour"
           }
          ],
          "contourcarpet": [
           {
            "colorbar": {
             "outlinewidth": 0,
             "ticks": ""
            },
            "type": "contourcarpet"
           }
          ],
          "heatmap": [
           {
            "colorbar": {
             "outlinewidth": 0,
             "ticks": ""
            },
            "colorscale": [
             [
              0,
              "#0d0887"
             ],
             [
              0.1111111111111111,
              "#46039f"
             ],
             [
              0.2222222222222222,
              "#7201a8"
             ],
             [
              0.3333333333333333,
              "#9c179e"
             ],
             [
              0.4444444444444444,
              "#bd3786"
             ],
             [
              0.5555555555555556,
              "#d8576b"
             ],
             [
              0.6666666666666666,
              "#ed7953"
             ],
             [
              0.7777777777777778,
              "#fb9f3a"
             ],
             [
              0.8888888888888888,
              "#fdca26"
             ],
             [
              1,
              "#f0f921"
             ]
            ],
            "type": "heatmap"
           }
          ],
          "heatmapgl": [
           {
            "colorbar": {
             "outlinewidth": 0,
             "ticks": ""
            },
            "colorscale": [
             [
              0,
              "#0d0887"
             ],
             [
              0.1111111111111111,
              "#46039f"
             ],
             [
              0.2222222222222222,
              "#7201a8"
             ],
             [
              0.3333333333333333,
              "#9c179e"
             ],
             [
              0.4444444444444444,
              "#bd3786"
             ],
             [
              0.5555555555555556,
              "#d8576b"
             ],
             [
              0.6666666666666666,
              "#ed7953"
             ],
             [
              0.7777777777777778,
              "#fb9f3a"
             ],
             [
              0.8888888888888888,
              "#fdca26"
             ],
             [
              1,
              "#f0f921"
             ]
            ],
            "type": "heatmapgl"
           }
          ],
          "histogram": [
           {
            "marker": {
             "pattern": {
              "fillmode": "overlay",
              "size": 10,
              "solidity": 0.2
             }
            },
            "type": "histogram"
           }
          ],
          "histogram2d": [
           {
            "colorbar": {
             "outlinewidth": 0,
             "ticks": ""
            },
            "colorscale": [
             [
              0,
              "#0d0887"
             ],
             [
              0.1111111111111111,
              "#46039f"
             ],
             [
              0.2222222222222222,
              "#7201a8"
             ],
             [
              0.3333333333333333,
              "#9c179e"
             ],
             [
              0.4444444444444444,
              "#bd3786"
             ],
             [
              0.5555555555555556,
              "#d8576b"
             ],
             [
              0.6666666666666666,
              "#ed7953"
             ],
             [
              0.7777777777777778,
              "#fb9f3a"
             ],
             [
              0.8888888888888888,
              "#fdca26"
             ],
             [
              1,
              "#f0f921"
             ]
            ],
            "type": "histogram2d"
           }
          ],
          "histogram2dcontour": [
           {
            "colorbar": {
             "outlinewidth": 0,
             "ticks": ""
            },
            "colorscale": [
             [
              0,
              "#0d0887"
             ],
             [
              0.1111111111111111,
              "#46039f"
             ],
             [
              0.2222222222222222,
              "#7201a8"
             ],
             [
              0.3333333333333333,
              "#9c179e"
             ],
             [
              0.4444444444444444,
              "#bd3786"
             ],
             [
              0.5555555555555556,
              "#d8576b"
             ],
             [
              0.6666666666666666,
              "#ed7953"
             ],
             [
              0.7777777777777778,
              "#fb9f3a"
             ],
             [
              0.8888888888888888,
              "#fdca26"
             ],
             [
              1,
              "#f0f921"
             ]
            ],
            "type": "histogram2dcontour"
           }
          ],
          "mesh3d": [
           {
            "colorbar": {
             "outlinewidth": 0,
             "ticks": ""
            },
            "type": "mesh3d"
           }
          ],
          "parcoords": [
           {
            "line": {
             "colorbar": {
              "outlinewidth": 0,
              "ticks": ""
             }
            },
            "type": "parcoords"
           }
          ],
          "pie": [
           {
            "automargin": true,
            "type": "pie"
           }
          ],
          "scatter": [
           {
            "fillpattern": {
             "fillmode": "overlay",
             "size": 10,
             "solidity": 0.2
            },
            "type": "scatter"
           }
          ],
          "scatter3d": [
           {
            "line": {
             "colorbar": {
              "outlinewidth": 0,
              "ticks": ""
             }
            },
            "marker": {
             "colorbar": {
              "outlinewidth": 0,
              "ticks": ""
             }
            },
            "type": "scatter3d"
           }
          ],
          "scattercarpet": [
           {
            "marker": {
             "colorbar": {
              "outlinewidth": 0,
              "ticks": ""
             }
            },
            "type": "scattercarpet"
           }
          ],
          "scattergeo": [
           {
            "marker": {
             "colorbar": {
              "outlinewidth": 0,
              "ticks": ""
             }
            },
            "type": "scattergeo"
           }
          ],
          "scattergl": [
           {
            "marker": {
             "colorbar": {
              "outlinewidth": 0,
              "ticks": ""
             }
            },
            "type": "scattergl"
           }
          ],
          "scattermapbox": [
           {
            "marker": {
             "colorbar": {
              "outlinewidth": 0,
              "ticks": ""
             }
            },
            "type": "scattermapbox"
           }
          ],
          "scatterpolar": [
           {
            "marker": {
             "colorbar": {
              "outlinewidth": 0,
              "ticks": ""
             }
            },
            "type": "scatterpolar"
           }
          ],
          "scatterpolargl": [
           {
            "marker": {
             "colorbar": {
              "outlinewidth": 0,
              "ticks": ""
             }
            },
            "type": "scatterpolargl"
           }
          ],
          "scatterternary": [
           {
            "marker": {
             "colorbar": {
              "outlinewidth": 0,
              "ticks": ""
             }
            },
            "type": "scatterternary"
           }
          ],
          "surface": [
           {
            "colorbar": {
             "outlinewidth": 0,
             "ticks": ""
            },
            "colorscale": [
             [
              0,
              "#0d0887"
             ],
             [
              0.1111111111111111,
              "#46039f"
             ],
             [
              0.2222222222222222,
              "#7201a8"
             ],
             [
              0.3333333333333333,
              "#9c179e"
             ],
             [
              0.4444444444444444,
              "#bd3786"
             ],
             [
              0.5555555555555556,
              "#d8576b"
             ],
             [
              0.6666666666666666,
              "#ed7953"
             ],
             [
              0.7777777777777778,
              "#fb9f3a"
             ],
             [
              0.8888888888888888,
              "#fdca26"
             ],
             [
              1,
              "#f0f921"
             ]
            ],
            "type": "surface"
           }
          ],
          "table": [
           {
            "cells": {
             "fill": {
              "color": "#EBF0F8"
             },
             "line": {
              "color": "white"
             }
            },
            "header": {
             "fill": {
              "color": "#C8D4E3"
             },
             "line": {
              "color": "white"
             }
            },
            "type": "table"
           }
          ]
         },
         "layout": {
          "annotationdefaults": {
           "arrowcolor": "#2a3f5f",
           "arrowhead": 0,
           "arrowwidth": 1
          },
          "autotypenumbers": "strict",
          "coloraxis": {
           "colorbar": {
            "outlinewidth": 0,
            "ticks": ""
           }
          },
          "colorscale": {
           "diverging": [
            [
             0,
             "#8e0152"
            ],
            [
             0.1,
             "#c51b7d"
            ],
            [
             0.2,
             "#de77ae"
            ],
            [
             0.3,
             "#f1b6da"
            ],
            [
             0.4,
             "#fde0ef"
            ],
            [
             0.5,
             "#f7f7f7"
            ],
            [
             0.6,
             "#e6f5d0"
            ],
            [
             0.7,
             "#b8e186"
            ],
            [
             0.8,
             "#7fbc41"
            ],
            [
             0.9,
             "#4d9221"
            ],
            [
             1,
             "#276419"
            ]
           ],
           "sequential": [
            [
             0,
             "#0d0887"
            ],
            [
             0.1111111111111111,
             "#46039f"
            ],
            [
             0.2222222222222222,
             "#7201a8"
            ],
            [
             0.3333333333333333,
             "#9c179e"
            ],
            [
             0.4444444444444444,
             "#bd3786"
            ],
            [
             0.5555555555555556,
             "#d8576b"
            ],
            [
             0.6666666666666666,
             "#ed7953"
            ],
            [
             0.7777777777777778,
             "#fb9f3a"
            ],
            [
             0.8888888888888888,
             "#fdca26"
            ],
            [
             1,
             "#f0f921"
            ]
           ],
           "sequentialminus": [
            [
             0,
             "#0d0887"
            ],
            [
             0.1111111111111111,
             "#46039f"
            ],
            [
             0.2222222222222222,
             "#7201a8"
            ],
            [
             0.3333333333333333,
             "#9c179e"
            ],
            [
             0.4444444444444444,
             "#bd3786"
            ],
            [
             0.5555555555555556,
             "#d8576b"
            ],
            [
             0.6666666666666666,
             "#ed7953"
            ],
            [
             0.7777777777777778,
             "#fb9f3a"
            ],
            [
             0.8888888888888888,
             "#fdca26"
            ],
            [
             1,
             "#f0f921"
            ]
           ]
          },
          "colorway": [
           "#636efa",
           "#EF553B",
           "#00cc96",
           "#ab63fa",
           "#FFA15A",
           "#19d3f3",
           "#FF6692",
           "#B6E880",
           "#FF97FF",
           "#FECB52"
          ],
          "font": {
           "color": "#2a3f5f"
          },
          "geo": {
           "bgcolor": "white",
           "lakecolor": "white",
           "landcolor": "#E5ECF6",
           "showlakes": true,
           "showland": true,
           "subunitcolor": "white"
          },
          "hoverlabel": {
           "align": "left"
          },
          "hovermode": "closest",
          "mapbox": {
           "style": "light"
          },
          "paper_bgcolor": "white",
          "plot_bgcolor": "#E5ECF6",
          "polar": {
           "angularaxis": {
            "gridcolor": "white",
            "linecolor": "white",
            "ticks": ""
           },
           "bgcolor": "#E5ECF6",
           "radialaxis": {
            "gridcolor": "white",
            "linecolor": "white",
            "ticks": ""
           }
          },
          "scene": {
           "xaxis": {
            "backgroundcolor": "#E5ECF6",
            "gridcolor": "white",
            "gridwidth": 2,
            "linecolor": "white",
            "showbackground": true,
            "ticks": "",
            "zerolinecolor": "white"
           },
           "yaxis": {
            "backgroundcolor": "#E5ECF6",
            "gridcolor": "white",
            "gridwidth": 2,
            "linecolor": "white",
            "showbackground": true,
            "ticks": "",
            "zerolinecolor": "white"
           },
           "zaxis": {
            "backgroundcolor": "#E5ECF6",
            "gridcolor": "white",
            "gridwidth": 2,
            "linecolor": "white",
            "showbackground": true,
            "ticks": "",
            "zerolinecolor": "white"
           }
          },
          "shapedefaults": {
           "line": {
            "color": "#2a3f5f"
           }
          },
          "ternary": {
           "aaxis": {
            "gridcolor": "white",
            "linecolor": "white",
            "ticks": ""
           },
           "baxis": {
            "gridcolor": "white",
            "linecolor": "white",
            "ticks": ""
           },
           "bgcolor": "#E5ECF6",
           "caxis": {
            "gridcolor": "white",
            "linecolor": "white",
            "ticks": ""
           }
          },
          "title": {
           "x": 0.05
          },
          "xaxis": {
           "automargin": true,
           "gridcolor": "white",
           "linecolor": "white",
           "ticks": "",
           "title": {
            "standoff": 15
           },
           "zerolinecolor": "white",
           "zerolinewidth": 2
          },
          "yaxis": {
           "automargin": true,
           "gridcolor": "white",
           "linecolor": "white",
           "ticks": "",
           "title": {
            "standoff": 15
           },
           "zerolinecolor": "white",
           "zerolinewidth": 2
          }
         }
        },
        "title": {
         "text": "Age-Disease Distribution"
        },
        "xaxis": {
         "anchor": "y",
         "domain": [
          0,
          1
         ],
         "title": {
          "text": "Age"
         }
        },
        "yaxis": {
         "anchor": "x",
         "domain": [
          0,
          1
         ],
         "title": {
          "text": "count"
         }
        }
       }
      }
     },
     "metadata": {},
     "output_type": "display_data"
    }
   ],
   "source": [
    "import plotly.express as px\n",
    "fig = px.histogram(df, \n",
    "             x = 'Age',  \n",
    "             title='Age-Disease Distribution',\n",
    "             color= 'Disease'\n",
    "                  )\n",
    "fig.update_layout(bargap=0.2)\n",
    "\n",
    "fig.show()"
   ]
  },
  {
   "cell_type": "code",
   "execution_count": null,
   "id": "10db14e7",
   "metadata": {},
   "outputs": [],
   "source": [
    "import plotly.graph_objs as go\n",
    "import plotly.subplots as sp\n",
    "\n",
    "fig = sp.make_subplots(rows=5, cols=2, subplot_titles=('Disease', 'Fever', 'Cough', 'Fatigue', 'Difficulty Breathing', 'Gender', 'Blood Pressure', 'Cholesterol Level', 'Results'))\n",
    "\n",
    "for i, col in enumerate(df.columns):\n",
    "    histogram = go.Histogram(x=df[col], name=col)\n",
    "    row_num = (i // 2) + 1\n",
    "    col_num = (i % 2) + 1\n",
    "    fig.add_trace(histogram, row=row_num, col=col_num)\n",
    "\n",
    "fig.update_layout(title='Histograms of Disease Dataset', showlegend=False, height=1200, width=800)\n",
    "\n",
    "fig.update_xaxes(title_text='Value', row=5, col=1)\n",
    "fig.update_yaxes(title_text='Frequency', row=3, col=1)\n",
    "\n",
    "fig.show()\n"
   ]
  },
  {
   "cell_type": "markdown",
   "id": "e6790278",
   "metadata": {
    "papermill": {
     "duration": 0.01245,
     "end_time": "2023-10-01T07:41:42.397100",
     "exception": false,
     "start_time": "2023-10-01T07:41:42.384650",
     "status": "completed"
    },
    "tags": []
   },
   "source": [
    "## Data Transformation"
   ]
  },
  {
   "cell_type": "code",
   "execution_count": 17,
   "id": "274b877e",
   "metadata": {
    "execution": {
     "iopub.execute_input": "2023-10-01T07:41:42.423139Z",
     "iopub.status.busy": "2023-10-01T07:41:42.422604Z",
     "iopub.status.idle": "2023-10-01T07:41:42.439598Z",
     "shell.execute_reply": "2023-10-01T07:41:42.438491Z"
    },
    "papermill": {
     "duration": 0.032492,
     "end_time": "2023-10-01T07:41:42.441629",
     "exception": false,
     "start_time": "2023-10-01T07:41:42.409137",
     "status": "completed"
    },
    "tags": []
   },
   "outputs": [
    {
     "data": {
      "text/html": [
       "<div>\n",
       "<style scoped>\n",
       "    .dataframe tbody tr th:only-of-type {\n",
       "        vertical-align: middle;\n",
       "    }\n",
       "\n",
       "    .dataframe tbody tr th {\n",
       "        vertical-align: top;\n",
       "    }\n",
       "\n",
       "    .dataframe thead th {\n",
       "        text-align: right;\n",
       "    }\n",
       "</style>\n",
       "<table border=\"1\" class=\"dataframe\">\n",
       "  <thead>\n",
       "    <tr style=\"text-align: right;\">\n",
       "      <th></th>\n",
       "      <th>Disease</th>\n",
       "      <th>Fever</th>\n",
       "      <th>Cough</th>\n",
       "      <th>Fatigue</th>\n",
       "      <th>Difficulty Breathing</th>\n",
       "      <th>Age</th>\n",
       "      <th>Gender</th>\n",
       "      <th>Blood Pressure</th>\n",
       "      <th>Cholesterol Level</th>\n",
       "      <th>Results</th>\n",
       "    </tr>\n",
       "  </thead>\n",
       "  <tbody>\n",
       "    <tr>\n",
       "      <th>0</th>\n",
       "      <td>Influenza</td>\n",
       "      <td>Yes</td>\n",
       "      <td>No</td>\n",
       "      <td>Yes</td>\n",
       "      <td>Yes</td>\n",
       "      <td>19</td>\n",
       "      <td>Female</td>\n",
       "      <td>Low</td>\n",
       "      <td>Normal</td>\n",
       "      <td>Positive</td>\n",
       "    </tr>\n",
       "    <tr>\n",
       "      <th>1</th>\n",
       "      <td>Common Cold</td>\n",
       "      <td>No</td>\n",
       "      <td>Yes</td>\n",
       "      <td>Yes</td>\n",
       "      <td>No</td>\n",
       "      <td>25</td>\n",
       "      <td>Female</td>\n",
       "      <td>Normal</td>\n",
       "      <td>Normal</td>\n",
       "      <td>Negative</td>\n",
       "    </tr>\n",
       "    <tr>\n",
       "      <th>2</th>\n",
       "      <td>Eczema</td>\n",
       "      <td>No</td>\n",
       "      <td>Yes</td>\n",
       "      <td>Yes</td>\n",
       "      <td>No</td>\n",
       "      <td>25</td>\n",
       "      <td>Female</td>\n",
       "      <td>Normal</td>\n",
       "      <td>Normal</td>\n",
       "      <td>Negative</td>\n",
       "    </tr>\n",
       "    <tr>\n",
       "      <th>3</th>\n",
       "      <td>Asthma</td>\n",
       "      <td>Yes</td>\n",
       "      <td>Yes</td>\n",
       "      <td>No</td>\n",
       "      <td>Yes</td>\n",
       "      <td>25</td>\n",
       "      <td>Male</td>\n",
       "      <td>Normal</td>\n",
       "      <td>Normal</td>\n",
       "      <td>Positive</td>\n",
       "    </tr>\n",
       "    <tr>\n",
       "      <th>5</th>\n",
       "      <td>Eczema</td>\n",
       "      <td>Yes</td>\n",
       "      <td>No</td>\n",
       "      <td>No</td>\n",
       "      <td>No</td>\n",
       "      <td>25</td>\n",
       "      <td>Female</td>\n",
       "      <td>Normal</td>\n",
       "      <td>Normal</td>\n",
       "      <td>Positive</td>\n",
       "    </tr>\n",
       "    <tr>\n",
       "      <th>...</th>\n",
       "      <td>...</td>\n",
       "      <td>...</td>\n",
       "      <td>...</td>\n",
       "      <td>...</td>\n",
       "      <td>...</td>\n",
       "      <td>...</td>\n",
       "      <td>...</td>\n",
       "      <td>...</td>\n",
       "      <td>...</td>\n",
       "      <td>...</td>\n",
       "    </tr>\n",
       "    <tr>\n",
       "      <th>341</th>\n",
       "      <td>Tonsillitis</td>\n",
       "      <td>Yes</td>\n",
       "      <td>Yes</td>\n",
       "      <td>Yes</td>\n",
       "      <td>No</td>\n",
       "      <td>70</td>\n",
       "      <td>Female</td>\n",
       "      <td>High</td>\n",
       "      <td>High</td>\n",
       "      <td>Positive</td>\n",
       "    </tr>\n",
       "    <tr>\n",
       "      <th>342</th>\n",
       "      <td>Williams Syndrome</td>\n",
       "      <td>No</td>\n",
       "      <td>No</td>\n",
       "      <td>Yes</td>\n",
       "      <td>No</td>\n",
       "      <td>70</td>\n",
       "      <td>Female</td>\n",
       "      <td>Normal</td>\n",
       "      <td>Normal</td>\n",
       "      <td>Positive</td>\n",
       "    </tr>\n",
       "    <tr>\n",
       "      <th>343</th>\n",
       "      <td>Stroke</td>\n",
       "      <td>Yes</td>\n",
       "      <td>No</td>\n",
       "      <td>Yes</td>\n",
       "      <td>No</td>\n",
       "      <td>80</td>\n",
       "      <td>Female</td>\n",
       "      <td>High</td>\n",
       "      <td>High</td>\n",
       "      <td>Positive</td>\n",
       "    </tr>\n",
       "    <tr>\n",
       "      <th>345</th>\n",
       "      <td>Stroke</td>\n",
       "      <td>Yes</td>\n",
       "      <td>No</td>\n",
       "      <td>Yes</td>\n",
       "      <td>No</td>\n",
       "      <td>85</td>\n",
       "      <td>Male</td>\n",
       "      <td>High</td>\n",
       "      <td>High</td>\n",
       "      <td>Positive</td>\n",
       "    </tr>\n",
       "    <tr>\n",
       "      <th>347</th>\n",
       "      <td>Stroke</td>\n",
       "      <td>Yes</td>\n",
       "      <td>No</td>\n",
       "      <td>Yes</td>\n",
       "      <td>No</td>\n",
       "      <td>90</td>\n",
       "      <td>Female</td>\n",
       "      <td>High</td>\n",
       "      <td>High</td>\n",
       "      <td>Positive</td>\n",
       "    </tr>\n",
       "  </tbody>\n",
       "</table>\n",
       "<p>300 rows × 10 columns</p>\n",
       "</div>"
      ],
      "text/plain": [
       "               Disease Fever Cough Fatigue Difficulty Breathing  Age  Gender  \\\n",
       "0            Influenza   Yes    No     Yes                  Yes   19  Female   \n",
       "1          Common Cold    No   Yes     Yes                   No   25  Female   \n",
       "2               Eczema    No   Yes     Yes                   No   25  Female   \n",
       "3               Asthma   Yes   Yes      No                  Yes   25    Male   \n",
       "5               Eczema   Yes    No      No                   No   25  Female   \n",
       "..                 ...   ...   ...     ...                  ...  ...     ...   \n",
       "341        Tonsillitis   Yes   Yes     Yes                   No   70  Female   \n",
       "342  Williams Syndrome    No    No     Yes                   No   70  Female   \n",
       "343             Stroke   Yes    No     Yes                   No   80  Female   \n",
       "345             Stroke   Yes    No     Yes                   No   85    Male   \n",
       "347             Stroke   Yes    No     Yes                   No   90  Female   \n",
       "\n",
       "    Blood Pressure Cholesterol Level   Results  \n",
       "0              Low            Normal  Positive  \n",
       "1           Normal            Normal  Negative  \n",
       "2           Normal            Normal  Negative  \n",
       "3           Normal            Normal  Positive  \n",
       "5           Normal            Normal  Positive  \n",
       "..             ...               ...       ...  \n",
       "341           High              High  Positive  \n",
       "342         Normal            Normal  Positive  \n",
       "343           High              High  Positive  \n",
       "345           High              High  Positive  \n",
       "347           High              High  Positive  \n",
       "\n",
       "[300 rows x 10 columns]"
      ]
     },
     "execution_count": 17,
     "metadata": {},
     "output_type": "execute_result"
    }
   ],
   "source": [
    "df"
   ]
  },
  {
   "cell_type": "code",
   "execution_count": 18,
   "id": "1debd102",
   "metadata": {
    "execution": {
     "iopub.execute_input": "2023-10-01T07:41:42.468089Z",
     "iopub.status.busy": "2023-10-01T07:41:42.467749Z",
     "iopub.status.idle": "2023-10-01T07:41:43.788546Z",
     "shell.execute_reply": "2023-10-01T07:41:43.787561Z"
    },
    "papermill": {
     "duration": 1.336774,
     "end_time": "2023-10-01T07:41:43.790911",
     "exception": false,
     "start_time": "2023-10-01T07:41:42.454137",
     "status": "completed"
    },
    "tags": []
   },
   "outputs": [],
   "source": [
    "from sklearn.preprocessing import OneHotEncoder , LabelEncoder"
   ]
  },
  {
   "cell_type": "code",
   "execution_count": 19,
   "id": "c219a49c",
   "metadata": {
    "execution": {
     "iopub.execute_input": "2023-10-01T07:41:43.824561Z",
     "iopub.status.busy": "2023-10-01T07:41:43.823349Z",
     "iopub.status.idle": "2023-10-01T07:41:43.828992Z",
     "shell.execute_reply": "2023-10-01T07:41:43.828060Z"
    },
    "papermill": {
     "duration": 0.022175,
     "end_time": "2023-10-01T07:41:43.830960",
     "exception": false,
     "start_time": "2023-10-01T07:41:43.808785",
     "status": "completed"
    },
    "tags": []
   },
   "outputs": [],
   "source": [
    "encoder1 = OneHotEncoder(sparse_output=False,drop='first')\n",
    "encoder2 = LabelEncoder()"
   ]
  },
  {
   "cell_type": "code",
   "execution_count": null,
   "id": "40dd195f",
   "metadata": {
    "execution": {
     "iopub.execute_input": "2023-10-01T07:41:43.858718Z",
     "iopub.status.busy": "2023-10-01T07:41:43.857775Z",
     "iopub.status.idle": "2023-10-01T07:41:43.885243Z",
     "shell.execute_reply": "2023-10-01T07:41:43.884539Z"
    },
    "papermill": {
     "duration": 0.044308,
     "end_time": "2023-10-01T07:41:43.887903",
     "exception": false,
     "start_time": "2023-10-01T07:41:43.843595",
     "status": "completed"
    },
    "tags": []
   },
   "outputs": [],
   "source": [
    "df['Disease'] = encoder2.fit_transform(df[['Disease']])\n",
    "df['Fever'] = encoder1.fit_transform(df[['Fever']])\n",
    "df['Cough'] =encoder1.fit_transform(df[['Cough']])\n",
    "df['Fatigue'] = encoder1.fit_transform(df[['Fatigue']])\n",
    "df['Difficulty Breathing'] =encoder1.fit_transform(df[['Difficulty Breathing']])\n",
    "df['Gender'] = encoder1.fit_transform(df[['Gender']])\n",
    "df['Blood Pressure'] = encoder1.fit_transform(df[['Blood Pressure']])\n",
    "df['Cholesterol Level'] = encoder1.fit_transform(df[['Cholesterol Level']])"
   ]
  },
  {
   "cell_type": "code",
   "execution_count": 21,
   "id": "ffd63058",
   "metadata": {
    "execution": {
     "iopub.execute_input": "2023-10-01T07:41:43.916068Z",
     "iopub.status.busy": "2023-10-01T07:41:43.915201Z",
     "iopub.status.idle": "2023-10-01T07:41:43.935691Z",
     "shell.execute_reply": "2023-10-01T07:41:43.934361Z"
    },
    "papermill": {
     "duration": 0.037135,
     "end_time": "2023-10-01T07:41:43.938164",
     "exception": false,
     "start_time": "2023-10-01T07:41:43.901029",
     "status": "completed"
    },
    "tags": []
   },
   "outputs": [
    {
     "data": {
      "text/html": [
       "<div>\n",
       "<style scoped>\n",
       "    .dataframe tbody tr th:only-of-type {\n",
       "        vertical-align: middle;\n",
       "    }\n",
       "\n",
       "    .dataframe tbody tr th {\n",
       "        vertical-align: top;\n",
       "    }\n",
       "\n",
       "    .dataframe thead th {\n",
       "        text-align: right;\n",
       "    }\n",
       "</style>\n",
       "<table border=\"1\" class=\"dataframe\">\n",
       "  <thead>\n",
       "    <tr style=\"text-align: right;\">\n",
       "      <th></th>\n",
       "      <th>Disease</th>\n",
       "      <th>Fever</th>\n",
       "      <th>Cough</th>\n",
       "      <th>Fatigue</th>\n",
       "      <th>Difficulty Breathing</th>\n",
       "      <th>Age</th>\n",
       "      <th>Gender</th>\n",
       "      <th>Blood Pressure</th>\n",
       "      <th>Cholesterol Level</th>\n",
       "      <th>Results</th>\n",
       "    </tr>\n",
       "  </thead>\n",
       "  <tbody>\n",
       "    <tr>\n",
       "      <th>0</th>\n",
       "      <td>56</td>\n",
       "      <td>1.0</td>\n",
       "      <td>0.0</td>\n",
       "      <td>1.0</td>\n",
       "      <td>1.0</td>\n",
       "      <td>19</td>\n",
       "      <td>0.0</td>\n",
       "      <td>1.0</td>\n",
       "      <td>0.0</td>\n",
       "      <td>Positive</td>\n",
       "    </tr>\n",
       "    <tr>\n",
       "      <th>1</th>\n",
       "      <td>24</td>\n",
       "      <td>0.0</td>\n",
       "      <td>1.0</td>\n",
       "      <td>1.0</td>\n",
       "      <td>0.0</td>\n",
       "      <td>25</td>\n",
       "      <td>0.0</td>\n",
       "      <td>0.0</td>\n",
       "      <td>0.0</td>\n",
       "      <td>Negative</td>\n",
       "    </tr>\n",
       "    <tr>\n",
       "      <th>2</th>\n",
       "      <td>37</td>\n",
       "      <td>0.0</td>\n",
       "      <td>1.0</td>\n",
       "      <td>1.0</td>\n",
       "      <td>0.0</td>\n",
       "      <td>25</td>\n",
       "      <td>0.0</td>\n",
       "      <td>0.0</td>\n",
       "      <td>0.0</td>\n",
       "      <td>Negative</td>\n",
       "    </tr>\n",
       "    <tr>\n",
       "      <th>3</th>\n",
       "      <td>6</td>\n",
       "      <td>1.0</td>\n",
       "      <td>1.0</td>\n",
       "      <td>0.0</td>\n",
       "      <td>1.0</td>\n",
       "      <td>25</td>\n",
       "      <td>1.0</td>\n",
       "      <td>0.0</td>\n",
       "      <td>0.0</td>\n",
       "      <td>Positive</td>\n",
       "    </tr>\n",
       "    <tr>\n",
       "      <th>5</th>\n",
       "      <td>37</td>\n",
       "      <td>1.0</td>\n",
       "      <td>0.0</td>\n",
       "      <td>0.0</td>\n",
       "      <td>0.0</td>\n",
       "      <td>25</td>\n",
       "      <td>0.0</td>\n",
       "      <td>0.0</td>\n",
       "      <td>0.0</td>\n",
       "      <td>Positive</td>\n",
       "    </tr>\n",
       "    <tr>\n",
       "      <th>...</th>\n",
       "      <td>...</td>\n",
       "      <td>...</td>\n",
       "      <td>...</td>\n",
       "      <td>...</td>\n",
       "      <td>...</td>\n",
       "      <td>...</td>\n",
       "      <td>...</td>\n",
       "      <td>...</td>\n",
       "      <td>...</td>\n",
       "      <td>...</td>\n",
       "    </tr>\n",
       "    <tr>\n",
       "      <th>341</th>\n",
       "      <td>106</td>\n",
       "      <td>1.0</td>\n",
       "      <td>1.0</td>\n",
       "      <td>1.0</td>\n",
       "      <td>0.0</td>\n",
       "      <td>70</td>\n",
       "      <td>0.0</td>\n",
       "      <td>0.0</td>\n",
       "      <td>0.0</td>\n",
       "      <td>Positive</td>\n",
       "    </tr>\n",
       "    <tr>\n",
       "      <th>342</th>\n",
       "      <td>114</td>\n",
       "      <td>0.0</td>\n",
       "      <td>0.0</td>\n",
       "      <td>1.0</td>\n",
       "      <td>0.0</td>\n",
       "      <td>70</td>\n",
       "      <td>0.0</td>\n",
       "      <td>0.0</td>\n",
       "      <td>0.0</td>\n",
       "      <td>Positive</td>\n",
       "    </tr>\n",
       "    <tr>\n",
       "      <th>343</th>\n",
       "      <td>101</td>\n",
       "      <td>1.0</td>\n",
       "      <td>0.0</td>\n",
       "      <td>1.0</td>\n",
       "      <td>0.0</td>\n",
       "      <td>80</td>\n",
       "      <td>0.0</td>\n",
       "      <td>0.0</td>\n",
       "      <td>0.0</td>\n",
       "      <td>Positive</td>\n",
       "    </tr>\n",
       "    <tr>\n",
       "      <th>345</th>\n",
       "      <td>101</td>\n",
       "      <td>1.0</td>\n",
       "      <td>0.0</td>\n",
       "      <td>1.0</td>\n",
       "      <td>0.0</td>\n",
       "      <td>85</td>\n",
       "      <td>1.0</td>\n",
       "      <td>0.0</td>\n",
       "      <td>0.0</td>\n",
       "      <td>Positive</td>\n",
       "    </tr>\n",
       "    <tr>\n",
       "      <th>347</th>\n",
       "      <td>101</td>\n",
       "      <td>1.0</td>\n",
       "      <td>0.0</td>\n",
       "      <td>1.0</td>\n",
       "      <td>0.0</td>\n",
       "      <td>90</td>\n",
       "      <td>0.0</td>\n",
       "      <td>0.0</td>\n",
       "      <td>0.0</td>\n",
       "      <td>Positive</td>\n",
       "    </tr>\n",
       "  </tbody>\n",
       "</table>\n",
       "<p>300 rows × 10 columns</p>\n",
       "</div>"
      ],
      "text/plain": [
       "     Disease  Fever  Cough  Fatigue  Difficulty Breathing  Age  Gender  \\\n",
       "0         56    1.0    0.0      1.0                   1.0   19     0.0   \n",
       "1         24    0.0    1.0      1.0                   0.0   25     0.0   \n",
       "2         37    0.0    1.0      1.0                   0.0   25     0.0   \n",
       "3          6    1.0    1.0      0.0                   1.0   25     1.0   \n",
       "5         37    1.0    0.0      0.0                   0.0   25     0.0   \n",
       "..       ...    ...    ...      ...                   ...  ...     ...   \n",
       "341      106    1.0    1.0      1.0                   0.0   70     0.0   \n",
       "342      114    0.0    0.0      1.0                   0.0   70     0.0   \n",
       "343      101    1.0    0.0      1.0                   0.0   80     0.0   \n",
       "345      101    1.0    0.0      1.0                   0.0   85     1.0   \n",
       "347      101    1.0    0.0      1.0                   0.0   90     0.0   \n",
       "\n",
       "     Blood Pressure  Cholesterol Level   Results  \n",
       "0               1.0                0.0  Positive  \n",
       "1               0.0                0.0  Negative  \n",
       "2               0.0                0.0  Negative  \n",
       "3               0.0                0.0  Positive  \n",
       "5               0.0                0.0  Positive  \n",
       "..              ...                ...       ...  \n",
       "341             0.0                0.0  Positive  \n",
       "342             0.0                0.0  Positive  \n",
       "343             0.0                0.0  Positive  \n",
       "345             0.0                0.0  Positive  \n",
       "347             0.0                0.0  Positive  \n",
       "\n",
       "[300 rows x 10 columns]"
      ]
     },
     "execution_count": 21,
     "metadata": {},
     "output_type": "execute_result"
    }
   ],
   "source": [
    "df"
   ]
  },
  {
   "cell_type": "code",
   "execution_count": null,
   "id": "08f494c6",
   "metadata": {
    "execution": {
     "iopub.execute_input": "2023-10-01T07:41:43.967820Z",
     "iopub.status.busy": "2023-10-01T07:41:43.967459Z",
     "iopub.status.idle": "2023-10-01T07:41:43.975328Z",
     "shell.execute_reply": "2023-10-01T07:41:43.973958Z"
    },
    "papermill": {
     "duration": 0.025545,
     "end_time": "2023-10-01T07:41:43.977975",
     "exception": false,
     "start_time": "2023-10-01T07:41:43.952430",
     "status": "completed"
    },
    "tags": []
   },
   "outputs": [],
   "source": [
    "df['Results'] = encoder1.fit_transform(df[['Results']])"
   ]
  },
  {
   "cell_type": "code",
   "execution_count": 23,
   "id": "aaefcede",
   "metadata": {
    "execution": {
     "iopub.execute_input": "2023-10-01T07:41:44.008563Z",
     "iopub.status.busy": "2023-10-01T07:41:44.007825Z",
     "iopub.status.idle": "2023-10-01T07:41:44.030306Z",
     "shell.execute_reply": "2023-10-01T07:41:44.029560Z"
    },
    "papermill": {
     "duration": 0.040227,
     "end_time": "2023-10-01T07:41:44.032093",
     "exception": false,
     "start_time": "2023-10-01T07:41:43.991866",
     "status": "completed"
    },
    "tags": []
   },
   "outputs": [
    {
     "data": {
      "text/html": [
       "<div>\n",
       "<style scoped>\n",
       "    .dataframe tbody tr th:only-of-type {\n",
       "        vertical-align: middle;\n",
       "    }\n",
       "\n",
       "    .dataframe tbody tr th {\n",
       "        vertical-align: top;\n",
       "    }\n",
       "\n",
       "    .dataframe thead th {\n",
       "        text-align: right;\n",
       "    }\n",
       "</style>\n",
       "<table border=\"1\" class=\"dataframe\">\n",
       "  <thead>\n",
       "    <tr style=\"text-align: right;\">\n",
       "      <th></th>\n",
       "      <th>Disease</th>\n",
       "      <th>Fever</th>\n",
       "      <th>Cough</th>\n",
       "      <th>Fatigue</th>\n",
       "      <th>Difficulty Breathing</th>\n",
       "      <th>Age</th>\n",
       "      <th>Gender</th>\n",
       "      <th>Blood Pressure</th>\n",
       "      <th>Cholesterol Level</th>\n",
       "      <th>Results</th>\n",
       "    </tr>\n",
       "  </thead>\n",
       "  <tbody>\n",
       "    <tr>\n",
       "      <th>0</th>\n",
       "      <td>56</td>\n",
       "      <td>1.0</td>\n",
       "      <td>0.0</td>\n",
       "      <td>1.0</td>\n",
       "      <td>1.0</td>\n",
       "      <td>19</td>\n",
       "      <td>0.0</td>\n",
       "      <td>1.0</td>\n",
       "      <td>0.0</td>\n",
       "      <td>1.0</td>\n",
       "    </tr>\n",
       "    <tr>\n",
       "      <th>1</th>\n",
       "      <td>24</td>\n",
       "      <td>0.0</td>\n",
       "      <td>1.0</td>\n",
       "      <td>1.0</td>\n",
       "      <td>0.0</td>\n",
       "      <td>25</td>\n",
       "      <td>0.0</td>\n",
       "      <td>0.0</td>\n",
       "      <td>0.0</td>\n",
       "      <td>0.0</td>\n",
       "    </tr>\n",
       "    <tr>\n",
       "      <th>2</th>\n",
       "      <td>37</td>\n",
       "      <td>0.0</td>\n",
       "      <td>1.0</td>\n",
       "      <td>1.0</td>\n",
       "      <td>0.0</td>\n",
       "      <td>25</td>\n",
       "      <td>0.0</td>\n",
       "      <td>0.0</td>\n",
       "      <td>0.0</td>\n",
       "      <td>0.0</td>\n",
       "    </tr>\n",
       "    <tr>\n",
       "      <th>3</th>\n",
       "      <td>6</td>\n",
       "      <td>1.0</td>\n",
       "      <td>1.0</td>\n",
       "      <td>0.0</td>\n",
       "      <td>1.0</td>\n",
       "      <td>25</td>\n",
       "      <td>1.0</td>\n",
       "      <td>0.0</td>\n",
       "      <td>0.0</td>\n",
       "      <td>1.0</td>\n",
       "    </tr>\n",
       "    <tr>\n",
       "      <th>5</th>\n",
       "      <td>37</td>\n",
       "      <td>1.0</td>\n",
       "      <td>0.0</td>\n",
       "      <td>0.0</td>\n",
       "      <td>0.0</td>\n",
       "      <td>25</td>\n",
       "      <td>0.0</td>\n",
       "      <td>0.0</td>\n",
       "      <td>0.0</td>\n",
       "      <td>1.0</td>\n",
       "    </tr>\n",
       "    <tr>\n",
       "      <th>...</th>\n",
       "      <td>...</td>\n",
       "      <td>...</td>\n",
       "      <td>...</td>\n",
       "      <td>...</td>\n",
       "      <td>...</td>\n",
       "      <td>...</td>\n",
       "      <td>...</td>\n",
       "      <td>...</td>\n",
       "      <td>...</td>\n",
       "      <td>...</td>\n",
       "    </tr>\n",
       "    <tr>\n",
       "      <th>341</th>\n",
       "      <td>106</td>\n",
       "      <td>1.0</td>\n",
       "      <td>1.0</td>\n",
       "      <td>1.0</td>\n",
       "      <td>0.0</td>\n",
       "      <td>70</td>\n",
       "      <td>0.0</td>\n",
       "      <td>0.0</td>\n",
       "      <td>0.0</td>\n",
       "      <td>1.0</td>\n",
       "    </tr>\n",
       "    <tr>\n",
       "      <th>342</th>\n",
       "      <td>114</td>\n",
       "      <td>0.0</td>\n",
       "      <td>0.0</td>\n",
       "      <td>1.0</td>\n",
       "      <td>0.0</td>\n",
       "      <td>70</td>\n",
       "      <td>0.0</td>\n",
       "      <td>0.0</td>\n",
       "      <td>0.0</td>\n",
       "      <td>1.0</td>\n",
       "    </tr>\n",
       "    <tr>\n",
       "      <th>343</th>\n",
       "      <td>101</td>\n",
       "      <td>1.0</td>\n",
       "      <td>0.0</td>\n",
       "      <td>1.0</td>\n",
       "      <td>0.0</td>\n",
       "      <td>80</td>\n",
       "      <td>0.0</td>\n",
       "      <td>0.0</td>\n",
       "      <td>0.0</td>\n",
       "      <td>1.0</td>\n",
       "    </tr>\n",
       "    <tr>\n",
       "      <th>345</th>\n",
       "      <td>101</td>\n",
       "      <td>1.0</td>\n",
       "      <td>0.0</td>\n",
       "      <td>1.0</td>\n",
       "      <td>0.0</td>\n",
       "      <td>85</td>\n",
       "      <td>1.0</td>\n",
       "      <td>0.0</td>\n",
       "      <td>0.0</td>\n",
       "      <td>1.0</td>\n",
       "    </tr>\n",
       "    <tr>\n",
       "      <th>347</th>\n",
       "      <td>101</td>\n",
       "      <td>1.0</td>\n",
       "      <td>0.0</td>\n",
       "      <td>1.0</td>\n",
       "      <td>0.0</td>\n",
       "      <td>90</td>\n",
       "      <td>0.0</td>\n",
       "      <td>0.0</td>\n",
       "      <td>0.0</td>\n",
       "      <td>1.0</td>\n",
       "    </tr>\n",
       "  </tbody>\n",
       "</table>\n",
       "<p>300 rows × 10 columns</p>\n",
       "</div>"
      ],
      "text/plain": [
       "     Disease  Fever  Cough  Fatigue  Difficulty Breathing  Age  Gender  \\\n",
       "0         56    1.0    0.0      1.0                   1.0   19     0.0   \n",
       "1         24    0.0    1.0      1.0                   0.0   25     0.0   \n",
       "2         37    0.0    1.0      1.0                   0.0   25     0.0   \n",
       "3          6    1.0    1.0      0.0                   1.0   25     1.0   \n",
       "5         37    1.0    0.0      0.0                   0.0   25     0.0   \n",
       "..       ...    ...    ...      ...                   ...  ...     ...   \n",
       "341      106    1.0    1.0      1.0                   0.0   70     0.0   \n",
       "342      114    0.0    0.0      1.0                   0.0   70     0.0   \n",
       "343      101    1.0    0.0      1.0                   0.0   80     0.0   \n",
       "345      101    1.0    0.0      1.0                   0.0   85     1.0   \n",
       "347      101    1.0    0.0      1.0                   0.0   90     0.0   \n",
       "\n",
       "     Blood Pressure  Cholesterol Level  Results  \n",
       "0               1.0                0.0      1.0  \n",
       "1               0.0                0.0      0.0  \n",
       "2               0.0                0.0      0.0  \n",
       "3               0.0                0.0      1.0  \n",
       "5               0.0                0.0      1.0  \n",
       "..              ...                ...      ...  \n",
       "341             0.0                0.0      1.0  \n",
       "342             0.0                0.0      1.0  \n",
       "343             0.0                0.0      1.0  \n",
       "345             0.0                0.0      1.0  \n",
       "347             0.0                0.0      1.0  \n",
       "\n",
       "[300 rows x 10 columns]"
      ]
     },
     "execution_count": 23,
     "metadata": {},
     "output_type": "execute_result"
    }
   ],
   "source": [
    "df"
   ]
  },
  {
   "cell_type": "code",
   "execution_count": 24,
   "id": "b7c381e2",
   "metadata": {
    "execution": {
     "iopub.execute_input": "2023-10-01T07:41:44.061820Z",
     "iopub.status.busy": "2023-10-01T07:41:44.060865Z",
     "iopub.status.idle": "2023-10-01T07:41:44.067217Z",
     "shell.execute_reply": "2023-10-01T07:41:44.066423Z"
    },
    "papermill": {
     "duration": 0.023272,
     "end_time": "2023-10-01T07:41:44.069111",
     "exception": false,
     "start_time": "2023-10-01T07:41:44.045839",
     "status": "completed"
    },
    "tags": []
   },
   "outputs": [],
   "source": [
    "X = df.drop('Results',axis=1)\n",
    "Y = df['Results']"
   ]
  },
  {
   "cell_type": "code",
   "execution_count": 25,
   "id": "b8269865",
   "metadata": {
    "execution": {
     "iopub.execute_input": "2023-10-01T07:41:44.098079Z",
     "iopub.status.busy": "2023-10-01T07:41:44.097050Z",
     "iopub.status.idle": "2023-10-01T07:41:44.101373Z",
     "shell.execute_reply": "2023-10-01T07:41:44.100581Z"
    },
    "papermill": {
     "duration": 0.020835,
     "end_time": "2023-10-01T07:41:44.103236",
     "exception": false,
     "start_time": "2023-10-01T07:41:44.082401",
     "status": "completed"
    },
    "tags": []
   },
   "outputs": [],
   "source": [
    "from sklearn.preprocessing import MinMaxScaler\n",
    "mmc = MinMaxScaler()\n",
    "X = mmc.fit_transform(X)"
   ]
  },
  {
   "cell_type": "code",
   "execution_count": 28,
   "id": "f2946fff",
   "metadata": {
    "execution": {
     "iopub.execute_input": "2023-10-01T07:41:44.208121Z",
     "iopub.status.busy": "2023-10-01T07:41:44.207755Z",
     "iopub.status.idle": "2023-10-01T07:41:44.213476Z",
     "shell.execute_reply": "2023-10-01T07:41:44.212839Z"
    },
    "papermill": {
     "duration": 0.022046,
     "end_time": "2023-10-01T07:41:44.215195",
     "exception": false,
     "start_time": "2023-10-01T07:41:44.193149",
     "status": "completed"
    },
    "tags": []
   },
   "outputs": [
    {
     "data": {
      "text/plain": [
       "array([[0.48695652, 1.        , 0.        , ..., 0.        , 1.        ,\n",
       "        0.        ],\n",
       "       [0.20869565, 0.        , 1.        , ..., 0.        , 0.        ,\n",
       "        0.        ],\n",
       "       [0.32173913, 0.        , 1.        , ..., 0.        , 0.        ,\n",
       "        0.        ],\n",
       "       ...,\n",
       "       [0.87826087, 1.        , 0.        , ..., 0.        , 0.        ,\n",
       "        0.        ],\n",
       "       [0.87826087, 1.        , 0.        , ..., 1.        , 0.        ,\n",
       "        0.        ],\n",
       "       [0.87826087, 1.        , 0.        , ..., 0.        , 0.        ,\n",
       "        0.        ]])"
      ]
     },
     "execution_count": 28,
     "metadata": {},
     "output_type": "execute_result"
    }
   ],
   "source": [
    "X"
   ]
  },
  {
   "cell_type": "code",
   "execution_count": 29,
   "id": "ea9652ce",
   "metadata": {
    "execution": {
     "iopub.execute_input": "2023-10-01T07:41:44.244709Z",
     "iopub.status.busy": "2023-10-01T07:41:44.244150Z",
     "iopub.status.idle": "2023-10-01T07:41:44.250210Z",
     "shell.execute_reply": "2023-10-01T07:41:44.249216Z"
    },
    "papermill": {
     "duration": 0.022893,
     "end_time": "2023-10-01T07:41:44.252182",
     "exception": false,
     "start_time": "2023-10-01T07:41:44.229289",
     "status": "completed"
    },
    "tags": []
   },
   "outputs": [
    {
     "data": {
      "text/plain": [
       "(300, 9)"
      ]
     },
     "execution_count": 29,
     "metadata": {},
     "output_type": "execute_result"
    }
   ],
   "source": [
    "X.shape"
   ]
  },
  {
   "cell_type": "markdown",
   "id": "0edd7626",
   "metadata": {
    "papermill": {
     "duration": 0.013197,
     "end_time": "2023-10-01T07:41:44.278902",
     "exception": false,
     "start_time": "2023-10-01T07:41:44.265705",
     "status": "completed"
    },
    "tags": []
   },
   "source": [
    "### Model Building"
   ]
  },
  {
   "cell_type": "code",
   "execution_count": 30,
   "id": "572fd775",
   "metadata": {
    "execution": {
     "iopub.execute_input": "2023-10-01T07:41:44.307252Z",
     "iopub.status.busy": "2023-10-01T07:41:44.306856Z",
     "iopub.status.idle": "2023-10-01T07:41:44.426146Z",
     "shell.execute_reply": "2023-10-01T07:41:44.425284Z"
    },
    "papermill": {
     "duration": 0.13621,
     "end_time": "2023-10-01T07:41:44.428408",
     "exception": false,
     "start_time": "2023-10-01T07:41:44.292198",
     "status": "completed"
    },
    "tags": []
   },
   "outputs": [],
   "source": [
    "from sklearn.model_selection import train_test_split\n",
    "X_train,X_test,y_train,y_test = train_test_split(X,Y,test_size=0.2,random_state=25)\n",
    "models_cost = {}"
   ]
  },
  {
   "cell_type": "code",
   "execution_count": 33,
   "id": "a301e89d",
   "metadata": {
    "execution": {
     "iopub.execute_input": "2023-10-01T07:41:44.614103Z",
     "iopub.status.busy": "2023-10-01T07:41:44.613482Z",
     "iopub.status.idle": "2023-10-01T07:41:45.061854Z",
     "shell.execute_reply": "2023-10-01T07:41:45.060787Z"
    },
    "papermill": {
     "duration": 0.466843,
     "end_time": "2023-10-01T07:41:45.064304",
     "exception": false,
     "start_time": "2023-10-01T07:41:44.597461",
     "status": "completed"
    },
    "tags": []
   },
   "outputs": [],
   "source": [
    "from sklearn.naive_bayes import GaussianNB\n",
    "from sklearn.naive_bayes import MultinomialNB\n",
    "from sklearn.tree import DecisionTreeClassifier\n",
    "from sklearn.linear_model import LogisticRegression\n",
    "from sklearn.ensemble import RandomForestClassifier"
   ]
  },
  {
   "cell_type": "code",
   "execution_count": 34,
   "id": "87b3bfef",
   "metadata": {
    "execution": {
     "iopub.execute_input": "2023-10-01T07:41:45.094067Z",
     "iopub.status.busy": "2023-10-01T07:41:45.093562Z",
     "iopub.status.idle": "2023-10-01T07:41:45.099966Z",
     "shell.execute_reply": "2023-10-01T07:41:45.098584Z"
    },
    "papermill": {
     "duration": 0.023807,
     "end_time": "2023-10-01T07:41:45.102164",
     "exception": false,
     "start_time": "2023-10-01T07:41:45.078357",
     "status": "completed"
    },
    "tags": []
   },
   "outputs": [],
   "source": [
    "from sklearn.metrics import accuracy_score,confusion_matrix,precision_score"
   ]
  },
  {
   "cell_type": "code",
   "execution_count": 35,
   "id": "6ab09fd7",
   "metadata": {
    "execution": {
     "iopub.execute_input": "2023-10-01T07:41:45.147480Z",
     "iopub.status.busy": "2023-10-01T07:41:45.146270Z",
     "iopub.status.idle": "2023-10-01T07:41:45.154280Z",
     "shell.execute_reply": "2023-10-01T07:41:45.152571Z"
    },
    "papermill": {
     "duration": 0.031831,
     "end_time": "2023-10-01T07:41:45.156466",
     "exception": false,
     "start_time": "2023-10-01T07:41:45.124635",
     "status": "completed"
    },
    "tags": []
   },
   "outputs": [],
   "source": [
    "gnb = GaussianNB()\n",
    "mnb = MultinomialNB()\n",
    "dtc = DecisionTreeClassifier(max_depth=6)\n",
    "lrc = LogisticRegression(solver='liblinear', penalty='l1')\n",
    "rfc = RandomForestClassifier(n_estimators=50, random_state=10)"
   ]
  },
  {
   "cell_type": "markdown",
   "id": "8d19fe87",
   "metadata": {},
   "source": [
    "### Gaussian Naive Bayes"
   ]
  },
  {
   "cell_type": "code",
   "execution_count": 36,
   "id": "70348c5b",
   "metadata": {},
   "outputs": [
    {
     "name": "stdout",
     "output_type": "stream",
     "text": [
      "Accuracy Score: 0.6333333333333333\n",
      "Confusion Matrix: [[ 6 19]\n",
      " [ 3 32]]\n"
     ]
    }
   ],
   "source": [
    "start_time = time.time()\n",
    "gnb.fit(X_train,y_train)\n",
    "y_pred = gnb.predict(X_test)\n",
    "end_time = time.time()\n",
    "models_cost['GaussianNB'] = end_time - start_time\n",
    "print('Accuracy Score:',accuracy_score(y_test,y_pred))\n",
    "print('Confusion Matrix:',confusion_matrix(y_test,y_pred))"
   ]
  },
  {
   "cell_type": "markdown",
   "id": "8362572d",
   "metadata": {},
   "source": [
    "### Logistic Regression"
   ]
  },
  {
   "cell_type": "code",
   "execution_count": 37,
   "id": "43581a44",
   "metadata": {
    "execution": {
     "iopub.execute_input": "2023-10-01T07:41:45.195893Z",
     "iopub.status.busy": "2023-10-01T07:41:45.195001Z",
     "iopub.status.idle": "2023-10-01T07:41:45.213576Z",
     "shell.execute_reply": "2023-10-01T07:41:45.212310Z"
    },
    "papermill": {
     "duration": 0.037262,
     "end_time": "2023-10-01T07:41:45.215861",
     "exception": false,
     "start_time": "2023-10-01T07:41:45.178599",
     "status": "completed"
    },
    "tags": []
   },
   "outputs": [
    {
     "name": "stdout",
     "output_type": "stream",
     "text": [
      "0.7666666666666667\n",
      "[[19  6]\n",
      " [ 8 27]]\n",
      "0.8181818181818182\n"
     ]
    }
   ],
   "source": [
    "start_time = time.time()\n",
    "lrc.fit(X_train,y_train)\n",
    "y_pred1= lrc.predict(X_test)\n",
    "end_time = time.time()\n",
    "models_cost['LogisticRegression'] = end_time - start_time\n",
    "print(accuracy_score(y_test,y_pred1))\n",
    "print(confusion_matrix(y_test,y_pred1))\n",
    "print(precision_score(y_test,y_pred1))"
   ]
  },
  {
   "cell_type": "code",
   "execution_count": 38,
   "id": "84b3d8fb",
   "metadata": {},
   "outputs": [
    {
     "data": {
      "image/png": "[encoded data removed]",
      "text/plain": [
       "<Figure size 640x480 with 2 Axes>"
      ]
     },
     "metadata": {},
     "output_type": "display_data"
    }
   ],
   "source": [
    "from sklearn.metrics import confusion_matrix\n",
    "import matplotlib.pyplot as plt\n",
    "import seaborn as sns\n",
    "\n",
    "cm = confusion_matrix(y_test, y_pred1)\n",
    "sns.heatmap(cm, annot=True, fmt='d', cmap='Blues')\n",
    "plt.xlabel('Predicted')\n",
    "plt.ylabel('True')\n",
    "plt.title('Confusion Matrix for Logistic Regression')\n",
    "\n",
    "plt.show()"
   ]
  },
  {
   "cell_type": "code",
   "execution_count": 39,
   "id": "941d8f33",
   "metadata": {},
   "outputs": [
    {
     "data": {
      "image/png": "[encoded data removed]",
      "text/plain": [
       "<Figure size 640x480 with 1 Axes>"
      ]
     },
     "metadata": {},
     "output_type": "display_data"
    },
    {
     "data": {
      "image/png": "[encoded data removed]",
      "text/plain": [
       "<Figure size 640x480 with 1 Axes>"
      ]
     },
     "metadata": {},
     "output_type": "display_data"
    },
    {
     "name": "stdout",
     "output_type": "stream",
     "text": [
      "Classification Report:\n",
      "              precision    recall  f1-score   support\n",
      "\n",
      "         0.0       0.70      0.76      0.73        25\n",
      "         1.0       0.82      0.77      0.79        35\n",
      "\n",
      "    accuracy                           0.77        60\n",
      "   macro avg       0.76      0.77      0.76        60\n",
      "weighted avg       0.77      0.77      0.77        60\n",
      "\n"
     ]
    }
   ],
   "source": [
    "from sklearn.metrics import precision_recall_curve, roc_curve, auc, classification_report\n",
    "import matplotlib.pyplot as plt\n",
    "\n",
    "precision, recall, _ = precision_recall_curve(y_test, y_pred1)\n",
    "plt.figure()\n",
    "plt.plot(recall, precision, color='blue', lw=2, label='Precision-Recall Curve')\n",
    "plt.xlabel('Recall')\n",
    "plt.ylabel('Precision')\n",
    "plt.title('Precision-Recall Curve')\n",
    "plt.legend(loc='lower left')\n",
    "plt.show()\n",
    "\n",
    "fpr, tpr, _ = roc_curve(y_test, y_pred1)\n",
    "roc_auc = auc(fpr, tpr)\n",
    "plt.figure()\n",
    "plt.plot(fpr, tpr, color='red', lw=2, label='ROC Curve (AUC = %0.2f)' % roc_auc)\n",
    "plt.plot([0, 1], [0, 1], color='navy', lw=2, linestyle='--')\n",
    "plt.xlabel('False Positive Rate')\n",
    "plt.ylabel('True Positive Rate')\n",
    "plt.title('Receiver Operating Characteristic (ROC) Curve')\n",
    "plt.legend(loc='lower right')\n",
    "plt.show()\n",
    "\n",
    "print(\"Classification Report:\")\n",
    "print(classification_report(y_test, y_pred1))\n"
   ]
  },
  {
   "cell_type": "markdown",
   "id": "f26c4937",
   "metadata": {},
   "source": [
    "### Decision Tree"
   ]
  },
  {
   "cell_type": "code",
   "execution_count": 40,
   "id": "a36c373e",
   "metadata": {
    "execution": {
     "iopub.execute_input": "2023-10-01T07:41:45.346151Z",
     "iopub.status.busy": "2023-10-01T07:41:45.345277Z",
     "iopub.status.idle": "2023-10-01T07:41:45.358481Z",
     "shell.execute_reply": "2023-10-01T07:41:45.356891Z"
    },
    "papermill": {
     "duration": 0.031108,
     "end_time": "2023-10-01T07:41:45.360718",
     "exception": false,
     "start_time": "2023-10-01T07:41:45.329610",
     "status": "completed"
    },
    "tags": []
   },
   "outputs": [
    {
     "name": "stdout",
     "output_type": "stream",
     "text": [
      "0.6666666666666666\n",
      "[[18  7]\n",
      " [13 22]]\n",
      "0.7586206896551724\n"
     ]
    }
   ],
   "source": [
    "start_time = time.time()\n",
    "dtc.fit(X_train,y_train)\n",
    "y_pred4= dtc.predict(X_test)\n",
    "end_time = time.time()\n",
    "models_cost['DecisionTreeClassifier'] = end_time - start_time\n",
    "print(accuracy_score(y_test,y_pred4))\n",
    "print(confusion_matrix(y_test,y_pred4))\n",
    "print(precision_score(y_test,y_pred4))"
   ]
  },
  {
   "cell_type": "markdown",
   "id": "c99d117a",
   "metadata": {},
   "source": [
    "### Random Forest"
   ]
  },
  {
   "cell_type": "code",
   "execution_count": 41,
   "id": "52d7751f",
   "metadata": {
    "execution": {
     "iopub.execute_input": "2023-10-01T07:41:45.391550Z",
     "iopub.status.busy": "2023-10-01T07:41:45.390782Z",
     "iopub.status.idle": "2023-10-01T07:41:45.488788Z",
     "shell.execute_reply": "2023-10-01T07:41:45.487256Z"
    },
    "papermill": {
     "duration": 0.115368,
     "end_time": "2023-10-01T07:41:45.491057",
     "exception": false,
     "start_time": "2023-10-01T07:41:45.375689",
     "status": "completed"
    },
    "tags": []
   },
   "outputs": [
    {
     "name": "stdout",
     "output_type": "stream",
     "text": [
      "0.7166666666666667\n",
      "[[19  6]\n",
      " [11 24]]\n",
      "0.8\n"
     ]
    }
   ],
   "source": [
    "start_time = time.time()\n",
    "rfc.fit(X_train,y_train)\n",
    "y_pred5= rfc.predict(X_test)\n",
    "end_time = time.time()\n",
    "print(accuracy_score(y_test,y_pred5))\n",
    "print(confusion_matrix(y_test,y_pred5))\n",
    "print(precision_score(y_test,y_pred5))"
   ]
  },
  {
   "cell_type": "markdown",
   "id": "7b41ecfb",
   "metadata": {},
   "source": [
    "### Multinomial Naive Bayes"
   ]
  },
  {
   "cell_type": "code",
   "execution_count": 42,
   "id": "8def02fb",
   "metadata": {
    "execution": {
     "iopub.execute_input": "2023-10-01T07:41:46.040848Z",
     "iopub.status.busy": "2023-10-01T07:41:46.040453Z",
     "iopub.status.idle": "2023-10-01T07:41:46.054469Z",
     "shell.execute_reply": "2023-10-01T07:41:46.052761Z"
    },
    "papermill": {
     "duration": 0.032766,
     "end_time": "2023-10-01T07:41:46.056898",
     "exception": false,
     "start_time": "2023-10-01T07:41:46.024132",
     "status": "completed"
    },
    "tags": []
   },
   "outputs": [
    {
     "name": "stdout",
     "output_type": "stream",
     "text": [
      "0.7833333333333333\n",
      "[[17  8]\n",
      " [ 5 30]]\n",
      "0.7894736842105263\n"
     ]
    }
   ],
   "source": [
    "start_time = time.time()\n",
    "mnb.fit(X_train,y_train)\n",
    "y_pred8 = mnb.predict(X_test)\n",
    "end_time = time.time()\n",
    "models_cost['MultinomialNB'] = end_time - start_time\n",
    "print(accuracy_score(y_test,y_pred8))\n",
    "print(confusion_matrix(y_test,y_pred8))\n",
    "print(precision_score(y_test,y_pred8))"
   ]
  },
  {
   "cell_type": "code",
   "execution_count": null,
   "id": "3027b7a0",
   "metadata": {},
   "outputs": [],
   "source": [
    "import matplotlib.pyplot as plt\n",
    "from sklearn.model_selection import cross_val_score\n",
    "from sklearn.naive_bayes import GaussianNB, MultinomialNB\n",
    "from sklearn.tree import DecisionTreeClassifier\n",
    "from sklearn.linear_model import LogisticRegression\n",
    "from sklearn.ensemble import RandomForestClassifier\n",
    "import numpy as np\n",
    "\n",
    "models = {\n",
    "    'Gaussian Naive Bayes': GaussianNB(),\n",
    "    'Multinomial Naive Bayes': MultinomialNB(),\n",
    "    'Decision Tree Classifier': DecisionTreeClassifier(max_depth=6),\n",
    "    'Logistic Regression': LogisticRegression(solver='liblinear', penalty='l1'),\n",
    "    'Random Forest Classifier': RandomForestClassifier(n_estimators=50, random_state=10)\n",
    "}\n",
    "\n",
    "accuracy_scores = {}\n",
    "for model_name, model in models.items():\n",
    "    scores = cross_val_score(model, X_train, y_train, cv=5, scoring='accuracy')\n",
    "    accuracy_scores[model_name] = scores.mean()\n",
    "\n",
    "colors = plt.cm.magma(np.linspace(0, 1, len(models)))\n",
    "\n",
    "plt.figure(figsize=(12, 8))\n",
    "bars = plt.bar(accuracy_scores.keys(), accuracy_scores.values(), color=colors, edgecolor='black', linewidth=2)\n",
    "plt.xlabel('Classification Model', fontsize=14)\n",
    "plt.ylabel('Accuracy Score', fontsize=14)\n",
    "plt.title('Accuracy Scores of Classification Models', fontsize=16, fontweight='bold')\n",
    "plt.xticks(rotation=45, ha='right', fontsize=12)\n",
    "plt.yticks(fontsize=12)\n",
    "plt.grid(axis='y', linestyle='--', alpha=0.7)\n",
    "\n",
    "for bar in bars:\n",
    "    plt.gca().add_patch(plt.Rectangle((bar.get_x(), 0), bar.get_width(), bar.get_height(), \n",
    "                                      color=bar.get_facecolor(), alpha=0.5, zorder=-1, edgecolor='black', lw=1))\n",
    "\n",
    "plt.tight_layout()\n",
    "plt.show()\n"
   ]
  },
  {
   "cell_type": "code",
   "execution_count": 44,
   "id": "bb5ff577",
   "metadata": {},
   "outputs": [
    {
     "data": {
      "image/png": "[encoded data removed]",
      "text/plain": [
       "<Figure size 1000x600 with 1 Axes>"
      ]
     },
     "metadata": {},
     "output_type": "display_data"
    }
   ],
   "source": [
    "import matplotlib.pyplot as plt\n",
    "plt.figure(figsize=(10, 6))\n",
    "plt.bar(models_cost.keys(), models_cost.values(), color='skyblue')\n",
    "plt.xlabel('Classification Model')\n",
    "plt.ylabel('Cost of Misclassifications')\n",
    "plt.title('Cost Analysis of Classification Models')\n",
    "plt.xticks(rotation=45, ha='right')\n",
    "plt.tight_layout()\n",
    "plt.show()"
   ]
  }
 ],
 "metadata": {
  "kernelspec": {
   "display_name": "Python 3",
   "language": "python",
   "name": "python3"
  },
  "language_info": {
   "codemirror_mode": {
    "name": "ipython",
    "version": 3
   },
   "file_extension": ".py",
   "mimetype": "text/x-python",
   "name": "python",
   "nbconvert_exporter": "python",
   "pygments_lexer": "ipython3",
   "version": "3.10.12"
  },
  "papermill": {
   "default_parameters": {},
   "duration": 12.072649,
   "end_time": "2023-10-01T07:41:46.822955",
   "environment_variables": {},
   "exception": null,
   "input_path": "__notebook__.ipynb",
   "output_path": "__notebook__.ipynb",
   "parameters": {},
   "start_time": "2023-10-01T07:41:34.750306",
   "version": "2.4.0"
  }
 },
 "nbformat": 4,
 "nbformat_minor": 5
}

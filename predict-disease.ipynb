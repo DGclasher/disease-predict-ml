{
 "cells": [
  {
   "cell_type": "code",
   "execution_count": null,
   "id": "7cf10b96",
   "metadata": {},
   "outputs": [],
   "source": [
    "import joblib\n",
    "import numpy as np\n",
    "import pandas as pd \n",
    "from pandas import read_csv\n",
    "from sklearn.metrics import accuracy_score\n",
    "from sklearn.model_selection import train_test_split\n"
   ]
  },
  {
   "cell_type": "code",
   "execution_count": null,
   "id": "4c4dfabd",
   "metadata": {},
   "outputs": [],
   "source": [
    "filename = './datasets/Training.csv'\n",
    "data = read_csv(filename)\n",
    "data.head()"
   ]
  },
  {
   "cell_type": "code",
   "execution_count": null,
   "id": "149e0767",
   "metadata": {},
   "outputs": [],
   "source": [
    "# Feature selection\n",
    "X = data.drop(columns=['prognosis'])\n",
    "y = data['prognosis']\n",
    "accuracies = {}"
   ]
  },
  {
   "cell_type": "code",
   "execution_count": null,
   "id": "f43dd30c",
   "metadata": {},
   "outputs": [],
   "source": [
    "# Train Test Split\n",
    "X_train, X_test, y_train, y_test = train_test_split(X, y, test_size=0.2, random_state=0)"
   ]
  },
  {
   "cell_type": "code",
   "execution_count": null,
   "id": "1d7e3002",
   "metadata": {},
   "outputs": [],
   "source": [
    "X_train.shape"
   ]
  },
  {
   "cell_type": "code",
   "execution_count": null,
   "id": "f8ccd9e9",
   "metadata": {},
   "outputs": [],
   "source": [
    "X_test.shape"
   ]
  },
  {
   "cell_type": "code",
   "execution_count": null,
   "id": "7814432e",
   "metadata": {},
   "outputs": [],
   "source": [
    "# Feature selection\n",
    "list_a = ['abdominal_pain', 'abnormal_menstruation', 'acidity', 'acute_liver_failure', 'altered_sensorium', 'anxiety', 'back_pain', 'belly_pain', 'blackheads', 'bladder_discomfort', 'blister', 'blood_in_sputum', 'bloody_stool', 'blurred_and_distorted_vision', 'breathlessness', 'brittle_nails', 'bruising', 'burning_micturition', 'chest_pain', 'chills', 'cold_hands_and_feet', 'coma', 'congestion', 'constipation', 'continuous_feel_of_urine', 'continuous_sneezing', 'cough', 'cramps', 'dark_urine', 'dehydration', 'depression', 'diarrhoea', 'dyschromic_patches', 'distention_of_abdomen', 'dizziness', 'drying_and_tingling_lips', 'enlarged_thyroid', 'excessive_hunger', 'extra_marital_contacts', 'family_history', 'fast_heart_rate', 'fatigue', 'fluid_overload', 'fluid_overload.1', 'foul_smell_of urine', 'headache', 'high_fever', 'hip_joint_pain', 'history_of_alcohol_consumption', 'increased_appetite', 'indigestion', 'inflammatory_nails', 'internal_itching', 'irregular_sugar_level', 'irritability', 'irritation_in_anus', 'itching', 'joint_pain', 'knee_pain', 'lack_of_concentration', 'lethargy', 'loss_of_appetite', 'loss_of_balance', 'loss_of_smell', 'loss_of_taste', 'malaise', 'mild_fever', 'mood_swings', 'movement_stiffness', 'mucoid_sputum', 'muscle_pain', 'muscle_wasting', 'muscle_weakness', 'nausea', 'neck_pain', 'nodal_skin_eruptions', 'obesity', 'pain_behind_the_eyes', 'pain_during_bowel_movements', 'pain_in_anal_region', 'painful_walking', 'palpitations', 'passage_of_gases', 'patches_in_throat', 'phlegm', 'polyuria', 'prominent_veins_on_calf', 'puffy_face_and_eyes', 'pus_filled_pimples', 'receiving_blood_transfusion', 'receiving_unsterile_injections', 'red_sore_around_nose', 'red_spots_over_body', 'redness_of_eyes', 'restlessness', 'runny_nose', 'rusty_sputum', 'scurrying', 'shivering', 'silver_like_dusting', 'sinus_pressure', 'skin_peeling', 'skin_rash', 'slurred_speech', 'small_dents_in_nails', 'spinning_movements', 'spotting_urination', 'stiff_neck', 'stomach_bleeding', 'stomach_pain', 'sunken_eyes', 'sweating', 'swelled_lymph_nodes', 'swelling_joints', 'swelling_of_stomach', 'swollen_blood_vessels', 'swollen_extremities', 'swollen_legs', 'throat_irritation', 'tiredness', 'toxic_look_(typhus)', 'ulcers_on_tongue', 'unsteadiness', 'visual_disturbances', 'vomiting', 'watering_from_eyes', 'weakness_in_limbs', 'weakness_of_one_body_side', 'weight_gain', 'weight_loss', 'yellow_crust_ooze', 'yellow_urine', 'yellowing_of_eyes', 'yellowish_skin']"
   ]
  },
  {
   "cell_type": "code",
   "execution_count": null,
   "id": "0d9c5604",
   "metadata": {},
   "outputs": [],
   "source": [
    "# Loop to convert all symptoms into 0's\n",
    "list_c = [] # Empty list to store diasese sympotms in 0's and 1's\n",
    "for x in range(0,len(list_a)):\n",
    "    list_c.append(0)"
   ]
  },
  {
   "cell_type": "code",
   "execution_count": null,
   "id": "97e3152b",
   "metadata": {},
   "outputs": [],
   "source": [
    "list_b = ['fever', 'chills', 'headache', 'nausea', 'vomiting', 'diarrhea','muscle pain', 'tiredness', 'sweating']"
   ]
  },
  {
   "cell_type": "code",
   "execution_count": null,
   "id": "b61df89e",
   "metadata": {},
   "outputs": [],
   "source": [
    "# For all matched specific disease sympotms in general put 1 and unmatched put 0 \n",
    "for z in range(0,len(list_a)):\n",
    "\tfor k in list_b:\n",
    "\t\tif(k==list_a[z]):\n",
    "\t\t\tlist_c[z]=1"
   ]
  },
  {
   "cell_type": "code",
   "execution_count": null,
   "id": "b1262d22",
   "metadata": {},
   "outputs": [],
   "source": [
    "test2=[0, 0, 0, 0, 0, 0, 0, 0, 0, 0, 0, 0, 0, 0, 0, 0, 0, 0, 0, 1, 0, 0, 0, 0, 0, 0, 0, 0, 0, 0, 0, 1, 0, 0, 0, 0, 0, 0, 0, 0, 0, 0, 0, 0, 0, 1, 1, 0, 0, 0, 0, 0, 0, 0, 0, 0, 0, 0, 0, 0, 0, 0, 0, 0, 0, 0, 0, 0, 0, 0, 0, 1, 0, 0, 1, 0, 0, 0, 0, 0, 0, 0, 0, 0, 0, 0, 0, 0, 0, 0, 0, 0, 0, 0, 0, 0, 0, 0, 0, 0, 0, 0, 0, 0, 0, 0, 0, 0, 0, 0, 0, 1, 0, 0, 0, 0, 0, 0, 0, 0, 0, 0, 0, 0, 1, 0, 0, 0, 0, 0, 0, 0, 0, 0]"
   ]
  },
  {
   "cell_type": "code",
   "execution_count": null,
   "id": "a4b0aac5",
   "metadata": {},
   "outputs": [],
   "source": [
    "test2 = np.array(test2)\n",
    "print(test2.shape)\n",
    "test2 = np.array(test2).reshape(1,-1)\n",
    "print(test2.shape)"
   ]
  },
  {
   "cell_type": "code",
   "execution_count": null,
   "id": "5c25d610",
   "metadata": {},
   "outputs": [],
   "source": [
    "test = list_c\n",
    "test = np.array(test)\n",
    "print(test.shape)\n",
    "test = np.array(test).reshape(1,-1)\n",
    "print(test.shape)"
   ]
  },
  {
   "cell_type": "markdown",
   "id": "2b4f63c2",
   "metadata": {},
   "source": [
    "### Random Forest"
   ]
  },
  {
   "cell_type": "code",
   "execution_count": null,
   "id": "e615094e",
   "metadata": {},
   "outputs": [],
   "source": [
    "from sklearn.ensemble import RandomForestClassifier\n",
    "rf = RandomForestClassifier(n_estimators=100, max_depth=10, random_state=0)\n",
    "rf.fit(X_train, y_train)"
   ]
  },
  {
   "cell_type": "code",
   "execution_count": null,
   "id": "ca9ef764",
   "metadata": {},
   "outputs": [],
   "source": [
    "from sklearn.metrics import accuracy_score, classification_report\n",
    "y_pred_rf = rf.predict(X_test)\n",
    "report_rf = classification_report(y_test, y_pred_rf, output_dict=True)\n",
    "accuracy_rf = accuracy_score(y_test, y_pred_rf)\n",
    "accuracies['random_forest'] = {\n",
    "    'accuracy': accuracy_rf,\n",
    "    'precision': report_rf['weighted avg']['precision'],\n",
    "    'recall': report_rf['weighted avg']['recall'],\n",
    "    'f1-score': report_rf['weighted avg']['f1-score']\n",
    "}\n",
    "print(\"Random Forest Accuracy:\", accuracy_rf)"
   ]
  },
  {
   "cell_type": "code",
   "execution_count": null,
   "id": "6274e966",
   "metadata": {},
   "outputs": [],
   "source": [
    "# Dumping the model\n",
    "joblib.dump(rf, 'model/random_forest.pkl')\n",
    "# Loading the model\n",
    "rf = joblib.load('model/random_forest.pkl')"
   ]
  },
  {
   "cell_type": "code",
   "execution_count": null,
   "id": "05f8eb9d",
   "metadata": {},
   "outputs": [],
   "source": [
    "test = list_c\n",
    "test = np.array(test)\n",
    "print(test.shape)\n",
    "test = np.array(test).reshape(1,-1)\n",
    "print(test.shape)"
   ]
  },
  {
   "cell_type": "code",
   "execution_count": null,
   "id": "a582ef0c",
   "metadata": {},
   "outputs": [],
   "source": [
    "prediction = rf.predict(test)\n",
    "print(prediction[0])"
   ]
  },
  {
   "cell_type": "code",
   "execution_count": null,
   "id": "1480b511",
   "metadata": {},
   "outputs": [],
   "source": [
    "# Making Prediction\n",
    "prediction = rf.predict(X_test)\n",
    "print(prediction[0:10])"
   ]
  },
  {
   "cell_type": "code",
   "execution_count": null,
   "id": "1a345f1c",
   "metadata": {},
   "outputs": [],
   "source": [
    "import seaborn as sns\n",
    "import matplotlib.pyplot as plt\n",
    "from sklearn.metrics import confusion_matrix\n",
    "from matplotlib import rcParams\n",
    "\n",
    "cmatrix = confusion_matrix(y_test, y_pred_rf)\n",
    "plt.figure(figsize=(12, 8), facecolor='white')\n",
    "ax = plt.axes()\n",
    "sns.heatmap(cmatrix, annot=True, fmt='d', ax=ax, cmap='YlGnBu', annot_kws={\"size\": 10})\n",
    "ax.set_title('Random Forest')\n",
    "ax.set_xlabel('Predicted Labels')  \n",
    "ax.set_ylabel('True Labels')       \n",
    "plt.show()"
   ]
  },
  {
   "cell_type": "code",
   "execution_count": null,
   "id": "712692e4",
   "metadata": {},
   "outputs": [],
   "source": [
    "\n",
    "# Visualizing a single decision tree\n",
    "import dtreeviz\n",
    "from sklearn import tree\n",
    "from matplotlib import pyplot as plt\n",
    "\n",
    "plt.rcParams.update({'figure.figsize': (12.0, 8.0)})\n",
    "plt.rcParams.update({'font.size': 14})\n",
    "plt.figure(figsize=(20,20))\n",
    "_ = tree.plot_tree(rf.estimators_[0], feature_names=X.columns, filled=True)"
   ]
  },
  {
   "cell_type": "markdown",
   "id": "e84974a8",
   "metadata": {},
   "source": [
    "### Logistic Regression"
   ]
  },
  {
   "cell_type": "code",
   "execution_count": null,
   "id": "47c5398b",
   "metadata": {},
   "outputs": [],
   "source": [
    "# Fitting Model\n",
    "#from sklearn import linear_model\n",
    "from sklearn.linear_model import LogisticRegression\n",
    "logreg = LogisticRegression(C=0.1, random_state=42)\n",
    "logreg.fit(X_train, y_train)"
   ]
  },
  {
   "cell_type": "code",
   "execution_count": null,
   "id": "cfd4ccc5",
   "metadata": {},
   "outputs": [],
   "source": [
    "from sklearn.metrics import classification_report\n",
    "y_pred_logreg = logreg.predict(X_test)\n",
    "report_lr = classification_report(y_test, y_pred_logreg, output_dict=True)\n",
    "accuracy_lr = accuracy_score(y_test, y_pred_logreg)\n",
    "accuracies['logistic_regression'] = {\n",
    "    'accuracy': accuracy_lr,\n",
    "    'precision': report_lr['weighted avg']['precision'],\n",
    "    'recall': report_lr['weighted avg']['recall'],\n",
    "    'f1-score': report_lr['weighted avg']['f1-score']\n",
    "}\n",
    "print(\"Logistic Regression Accuracy:\", accuracy_lr)"
   ]
  },
  {
   "cell_type": "code",
   "execution_count": null,
   "id": "24958b9d",
   "metadata": {},
   "outputs": [],
   "source": [
    "import seaborn as sns\n",
    "import matplotlib.pyplot as plt\n",
    "from sklearn.metrics import confusion_matrix\n",
    "\n",
    "cmatrix = confusion_matrix(y_test, y_pred_logreg)\n",
    "plt.figure(figsize=(12, 8), facecolor='white')\n",
    "ax = plt.axes()\n",
    "sns.heatmap(cmatrix, annot=True, fmt='d', ax=ax, cmap='YlGnBu', annot_kws={\"size\": 10})\n",
    "ax.set_title('Logistic Regression')\n",
    "ax.set_xlabel('Predicted Labels')  \n",
    "ax.set_ylabel('True Labels')       \n",
    "plt.show()"
   ]
  },
  {
   "cell_type": "code",
   "execution_count": null,
   "id": "61ab5bd8",
   "metadata": {},
   "outputs": [],
   "source": [
    "# Dumping the model\n",
    "joblib.dump(logreg, 'model/logistic_regression.pkl')\n",
    "# Loading the model\n",
    "dt = joblib.load('model/logistic_regression.pkl')"
   ]
  },
  {
   "cell_type": "code",
   "execution_count": null,
   "id": "4e820676",
   "metadata": {},
   "outputs": [],
   "source": [
    "prediction = dt.predict(test)\n",
    "print(prediction[0])"
   ]
  },
  {
   "cell_type": "markdown",
   "id": "73797c3e",
   "metadata": {},
   "source": [
    "### Decision Tree"
   ]
  },
  {
   "cell_type": "code",
   "execution_count": null,
   "id": "aaf1c017",
   "metadata": {},
   "outputs": [],
   "source": [
    "# from sklearn import tree\n",
    "from sklearn.tree import DecisionTreeClassifier\n",
    "from sklearn.model_selection import GridSearchCV\n",
    "\n",
    "param_grid = {\n",
    "    'max_depth': [1e-15,1e-10,1e-8,1e-3,1e-2,1,5,10,20,30,35,40,45,50,55,100],\n",
    "    'random_state': [0, 10, 41, 42, 100]\n",
    "}\n",
    "\n",
    "grid_search = GridSearchCV(estimator=DecisionTreeClassifier(), param_grid=param_grid, cv=5)\n",
    "grid_search.fit(X_train, y_train)\n",
    "\n",
    "best_params = grid_search.best_params_\n",
    "print(\"Best Parameters:\", best_params)\n",
    "\n",
    "best_dt = DecisionTreeClassifier(max_depth=101,random_state=101)\n",
    "best_dt.fit(X_train, y_train)\n",
    "\n",
    "dt.fit(X_train, y_train)\n",
    "best_dt.fit(X_train, y_train)"
   ]
  },
  {
   "cell_type": "code",
   "execution_count": null,
   "id": "ecd73b32",
   "metadata": {},
   "outputs": [],
   "source": [
    "from sklearn.metrics import classification_report\n",
    "y_pred_dt = best_dt.predict(X_test)\n",
    "report_dt = classification_report(y_test, y_pred_dt, output_dict=True)\n",
    "accuracy_dt = accuracy_score(y_test, y_pred_dt)\n",
    "accuracies['decision_tree'] = {\n",
    "    'accuracy': accuracy_dt,\n",
    "    'precision': report_dt['weighted avg']['precision'],\n",
    "    'recall': report_dt['weighted avg']['recall'],\n",
    "    'f1-score': report_dt['weighted avg']['f1-score']\n",
    "}\n",
    "print(\"Decision Tree Accuracy:\", accuracy_dt)"
   ]
  },
  {
   "cell_type": "code",
   "execution_count": null,
   "id": "4a3e8776",
   "metadata": {},
   "outputs": [],
   "source": [
    "import seaborn as sns\n",
    "import matplotlib.pyplot as plt\n",
    "from sklearn.metrics import confusion_matrix\n",
    "\n",
    "cmatrix = confusion_matrix(y_test, y_pred_dt)\n",
    "plt.figure(figsize=(12, 8), facecolor='white')\n",
    "ax = plt.axes()\n",
    "sns.heatmap(cmatrix, annot=True, fmt='d', ax=ax, cmap='YlGnBu', annot_kws={\"size\": 10})\n",
    "ax.set_title('Decision Tree')\n",
    "ax.set_xlabel('Predicted Labels')  \n",
    "ax.set_ylabel('True Labels')       \n",
    "plt.show()"
   ]
  },
  {
   "cell_type": "code",
   "execution_count": null,
   "id": "ac405a5f",
   "metadata": {},
   "outputs": [],
   "source": [
    "# Dumping the model\n",
    "joblib.dump(best_dt, 'model/decision_tree.pkl')\n",
    "# Loading the model\n",
    "best_dt = joblib.load('model/decision_tree.pkl')"
   ]
  },
  {
   "cell_type": "code",
   "execution_count": null,
   "id": "0e6c2607",
   "metadata": {},
   "outputs": [],
   "source": [
    "prediction = best_dt.predict(test)\n",
    "print(prediction[0])"
   ]
  },
  {
   "cell_type": "markdown",
   "id": "443fda67",
   "metadata": {},
   "source": [
    "#### KNN"
   ]
  },
  {
   "cell_type": "code",
   "execution_count": null,
   "metadata": {},
   "outputs": [],
   "source": [
    "import numpy as np\n",
    "from sklearn.neighbors import KNeighborsClassifier\n",
    "from sklearn.model_selection import train_test_split\n",
    "from sklearn.metrics import accuracy_score, classification_report\n",
    "\n",
    "X_train, X_test, y_train, y_test = train_test_split(X, y, test_size=0.2, random_state=42)\n",
    "knn_classifier = KNeighborsClassifier(n_neighbors=5)\n",
    "knn_classifier.fit(X_train, y_train)\n",
    "y_pred_knn = knn_classifier.predict(X_test)\n",
    "accuracy_knn = accuracy_score(y_test, y_pred_knn)\n",
    "report_knn = classification_report(y_test, y_pred_knn, output_dict=True)\n",
    "accuracies['knn'] = {\n",
    "    'accuracy': accuracy_knn,\n",
    "    'precision': report_knn['weighted avg']['precision'],\n",
    "    'recall': report_knn['weighted avg']['recall'],\n",
    "    'f1-score': report_knn['weighted avg']['f1-score']\n",
    "}\n",
    "print(\"KNN Accuracy:\", accuracy_knn)\n"
   ]
  },
  {
   "cell_type": "code",
   "execution_count": null,
   "id": "42e5414f",
   "metadata": {},
   "outputs": [],
   "source": [
    "import seaborn as sns\n",
    "import matplotlib.pyplot as plt\n",
    "from sklearn.metrics import confusion_matrix\n",
    "\n",
    "cmatrix_knn = confusion_matrix(y_test, y_pred_knn)\n",
    "\n",
    "plt.figure(figsize=(12, 8), facecolor='white')\n",
    "ax = plt.axes()\n",
    "sns.heatmap(cmatrix_knn, annot=True, fmt='d', ax=ax, cmap='YlGnBu', annot_kws={\"size\": 10})\n",
    "ax.set_title('KNN')\n",
    "ax.set_xlabel('Predicted Labels')\n",
    "ax.set_ylabel('True Labels')\n",
    "plt.show()"
   ]
  },
  {
   "cell_type": "code",
   "execution_count": null,
   "id": "f83d9941",
   "metadata": {},
   "outputs": [],
   "source": [
    "joblib.dump(knn_classifier, 'model/knn.pkl')\n",
    "# Loading the model\n",
    "knn = joblib.load('model/knn.pkl')"
   ]
  },
  {
   "cell_type": "code",
   "execution_count": null,
   "id": "7b854afa",
   "metadata": {},
   "outputs": [],
   "source": [
    "# Making Prediction\n",
    "prediction = knn.predict(test)\n",
    "print(prediction[0])"
   ]
  },
  {
   "cell_type": "markdown",
   "id": "fab21b77",
   "metadata": {},
   "source": [
    "#### Comparisons"
   ]
  },
  {
   "cell_type": "code",
   "execution_count": null,
   "id": "14912d41",
   "metadata": {},
   "outputs": [],
   "source": [
    "import matplotlib.pyplot as plt\n",
    "from sklearn.metrics import accuracy_score\n",
    "\n",
    "# Create a histogram\n",
    "classifiers = ['Random Forest', 'KNN', 'Logistic Regression', 'Decision Tree']\n",
    "accuracy = [accuracies['random_forest']['accuracy'], accuracies['knn']['accuracy'],accuracies['logistic_regression']['accuracy'] , accuracies['decision_tree']['accuracy']]\n",
    "plt.figure(figsize=(10, 6))\n",
    "plt.bar(classifiers, accuracy, color=['blue', 'green', 'orange', 'red'])\n",
    "plt.xlabel('Classifiers')\n",
    "plt.ylabel('Accuracy')\n",
    "plt.title('Accuracy of Different Classifiers')\n",
    "plt.ylim(0.0, 1.0) \n",
    "plt.show()\n"
   ]
  },
  {
   "cell_type": "code",
   "execution_count": null,
   "id": "63663be9",
   "metadata": {},
   "outputs": [],
   "source": [
    "import numpy as np\n",
    "import matplotlib.pyplot as plt\n",
    "\n",
    "algorithms = list(accuracies.keys())\n",
    "metrics = ['precision', 'recall', 'f1-score']\n",
    "\n",
    "plt.figure(figsize=(10, 6))\n",
    "\n",
    "for metric in metrics:\n",
    "    scores = [accuracies[algo][metric] for algo in algorithms]\n",
    "    plt.plot(algorithms, scores, marker='o', label=metric.capitalize())\n",
    "\n",
    "plt.title('Performance Metrics Comparison')\n",
    "plt.xlabel('Algorithms')\n",
    "plt.ylabel('Score')\n",
    "plt.legend()\n",
    "plt.grid(True)\n",
    "plt.xticks(rotation=45)\n",
    "plt.tight_layout()\n",
    "plt.show()\n"
   ]
  },
  {
   "cell_type": "code",
   "execution_count": null,
   "id": "3920e62d",
   "metadata": {},
   "outputs": [],
   "source": [
    "import matplotlib.pyplot as plt\n",
    "\n",
    "# Define accuracies for logistic regression, KNN, and papers\n",
    "lr_acc = accuracies['logistic_regression']['accuracy'] * 100\n",
    "knn_acc = accuracies['knn']['accuracy'] * 100\n",
    "paper1_acc = 86\n",
    "paper2_acc = 23\n",
    "paper8_acc = 85\n",
    "\n",
    "plt.figure(figsize=(12, 12))\n",
    "\n",
    "# Plot bar graphs for Logistic Regression and papers\n",
    "plt.subplot(3, 1, 1)\n",
    "plt.bar(['Our study', \"Identification and prediction \\nof chronic \\ndiseases using \\nmachine learning approach. [1]\"], [lr_acc, paper1_acc], color=['blue', 'green'])\n",
    "plt.ylabel('Accuracy (%)')\n",
    "plt.title('Comparison of Logistic Regression Accuracies')\n",
    "plt.ylim(0.0, 100.0) \n",
    "plt.grid(axis='y', linestyle='--', alpha=0.7)\n",
    "\n",
    "# Plot bar graphs for KNN and papers\n",
    "plt.subplot(3, 1, 2)\n",
    "plt.bar(['Our study', \"Classifying and prediction\\n for patient disease using\\n machine learning algorithms. [2]\"], [knn_acc, paper2_acc], color=['blue', 'green'])\n",
    "plt.ylabel('Accuracy (%)')\n",
    "plt.title('Comparison of KNN Accuracies')\n",
    "plt.ylim(0.0, 100.0) \n",
    "plt.grid(axis='y', linestyle='--', alpha=0.7)\n",
    "\n",
    "# Plot bar graphs for KNN and papers\n",
    "plt.subplot(3, 1, 3)\n",
    "plt.bar(['Our study', \"Multiple disease prediction\\n system using \\nmachine learning and\\n streamlit. [8]\"], [knn_acc, paper8_acc], color=['blue', 'green'])\n",
    "plt.xlabel('Studies')\n",
    "plt.ylabel('Accuracy (%)')\n",
    "plt.title('Comparison of KNN Accuracies')\n",
    "plt.ylim(0.0, 100.0) \n",
    "plt.grid(axis='y', linestyle='--', alpha=0.7)\n",
    "\n",
    "plt.tight_layout()\n",
    "plt.show()\n"
   ]
  }
 ],
 "metadata": {
  "kernelspec": {
   "display_name": "Python 3 (ipykernel)",
   "language": "python",
   "name": "python3"
  },
  "language_info": {
   "codemirror_mode": {
    "name": "ipython",
    "version": 3
   },
   "file_extension": ".py",
   "mimetype": "text/x-python",
   "name": "python",
   "nbconvert_exporter": "python",
   "pygments_lexer": "ipython3",
   "version": "3.10.12"
  }
 },
 "nbformat": 4,
 "nbformat_minor": 5
}
